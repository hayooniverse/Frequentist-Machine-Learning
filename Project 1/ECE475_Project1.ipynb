{
 "cells": [
  {
   "cell_type": "markdown",
   "metadata": {
    "id": "APNLjwy8UVDp"
   },
   "source": [
    "# ECE475 Frequentist Machine Learning Project 1\n",
    "Hailey Hayoon Chung"
   ]
  },
  {
   "cell_type": "code",
   "execution_count": 104,
   "metadata": {
    "id": "6gxXnE9uUsu_"
   },
   "outputs": [],
   "source": [
    "import pandas as pd\n",
    "import numpy as np\n",
    "import os \n",
    "\n",
    "from sklearn.linear_model import Lasso\n",
    "from sklearn.model_selection import train_test_split\n",
    "\n",
    "import matplotlib\n",
    "import matplotlib.pyplot as plt"
   ]
  },
  {
   "cell_type": "markdown",
   "metadata": {
    "id": "PACFCl3byktC"
   },
   "source": [
    "# 0. Data Handling\n",
    "Downloaded prostate.data as a txt file. Opened with Microsoft Excel to convert into a csv file. Saved in a pandas dataframe."
   ]
  },
  {
   "cell_type": "code",
   "execution_count": 105,
   "metadata": {
    "id": "RB3YGorAs_o1"
   },
   "outputs": [],
   "source": [
    "# importing prostate.csv into df\n",
    "filename = os.path.join(os.getcwd(),\"prostate.csv\")\n",
    "df = pd.read_csv(filename,index_col=0)\n",
    "df.drop(columns='train',inplace=True)\n",
    "\n",
    "pred_list = list(['lcavol','lweight','age','lbph','svi','lcp','gleason','pgg45'])\n",
    "y = df['lpsa']\n",
    "X = df[pred_list]"
   ]
  },
  {
   "cell_type": "markdown",
   "metadata": {
    "id": "JvkA1iXgux1U"
   },
   "source": [
    "Split the dataset into train (80%) and temp (20%). Then temp was split into validation (10%) and test (10%) using test_size = 0.5. Standardizing the predictors to have unit variance (Z = (x-mu)/sigma). Training dataset's mu and sigma will be used to standardize the validation and test datasets."
   ]
  },
  {
   "cell_type": "code",
   "execution_count": 106,
   "metadata": {
    "id": "ZoGneyJLYBks"
   },
   "outputs": [],
   "source": [
    "# a function to split the dataset into train, val, and test\n",
    "def train_val_test_split(X,y,test_size,seed):\n",
    "    X_train, X_temp, y_train, y_temp = train_test_split(X,y,test_size =test_size, random_state=seed)\n",
    "    X_val, X_test, y_val, y_test = train_test_split(X_temp,y_temp,test_size=test_size, random_state=seed)\n",
    "    X_train_std = (X_train-X_train.mean())/(X_train.std())\n",
    "    X_val_std = (X_val-X_train.mean())/(X_train.std())\n",
    "    X_test_std = (X_test-X_train.mean())/(X_train.std())\n",
    "    y_train_std = (y_train-y_train.mean())/(y_train.std())\n",
    "    y_val_std = (y_val-y_train.mean())/(y_train.std())\n",
    "    y_test_std = (y_test-y_train.mean())/(y_train.std())\n",
    "\n",
    "    return X_train, X_val, X_test, X_train_std, X_val_std, X_test_std, y_train, y_val, y_test, y_train_std, y_val_std, y_test_std\n",
    "\n",
    "# split the prostate data\n",
    "X_train, X_val, X_test, X_train_std, X_val_std, X_test_std, y_train, y_val, y_test, y_train_std, y_val_std, y_test_std = train_val_test_split(X,y,0.2,723)"
   ]
  },
  {
   "cell_type": "markdown",
   "metadata": {
    "id": "I81vxpr80-CF"
   },
   "source": [
    "#1. Regression\n",
    "\n",
    "Plain old linear regression, with no regularization. You must code this one by hand (i.e use equation 3.6 to find the betas).  Report the mean squared error on the test dataset. Replicate tables 3.1 and 3.2. You will not need the validation set for this part of the assignment.\n",
    "\n"
   ]
  },
  {
   "cell_type": "markdown",
   "metadata": {
    "id": "hsrupeX_teOq"
   },
   "source": [
    "Replicating Tables 3.1 and 3.2 based on the textbook's training dataset"
   ]
  },
  {
   "cell_type": "code",
   "execution_count": 107,
   "metadata": {
    "colab": {
     "base_uri": "https://localhost:8080/",
     "height": 331
    },
    "id": "2-KLWCtVZoaB",
    "outputId": "f1f5b398-f88a-4758-d1a9-6e32b9b87859"
   },
   "outputs": [
    {
     "name": "stderr",
     "output_type": "stream",
     "text": [
      "/var/folders/zl/fxd66b555m5656g3sfpymcbr0000gn/T/ipykernel_22537/3714450893.py:10: UserWarning: Boolean Series key will be reindexed to match DataFrame index.\n",
      "  df_dropped = df_txt_train[train].drop(columns=['lpsa','train'],inplace=False)\n"
     ]
    },
    {
     "data": {
      "text/html": [
       "<div>\n",
       "<style scoped>\n",
       "    .dataframe tbody tr th:only-of-type {\n",
       "        vertical-align: middle;\n",
       "    }\n",
       "\n",
       "    .dataframe tbody tr th {\n",
       "        vertical-align: top;\n",
       "    }\n",
       "\n",
       "    .dataframe thead th {\n",
       "        text-align: right;\n",
       "    }\n",
       "</style>\n",
       "<table border=\"1\" class=\"dataframe\">\n",
       "  <thead>\n",
       "    <tr style=\"text-align: right;\">\n",
       "      <th></th>\n",
       "      <th>lcavol</th>\n",
       "      <th>lweight</th>\n",
       "      <th>age</th>\n",
       "      <th>lbph</th>\n",
       "      <th>svi</th>\n",
       "      <th>lcp</th>\n",
       "      <th>gleason</th>\n",
       "      <th>pgg45</th>\n",
       "    </tr>\n",
       "  </thead>\n",
       "  <tbody>\n",
       "    <tr>\n",
       "      <th>lcavol</th>\n",
       "      <td>1.000000</td>\n",
       "      <td>0.300232</td>\n",
       "      <td>0.286324</td>\n",
       "      <td>0.063168</td>\n",
       "      <td>0.592949</td>\n",
       "      <td>0.692043</td>\n",
       "      <td>0.426414</td>\n",
       "      <td>0.483161</td>\n",
       "    </tr>\n",
       "    <tr>\n",
       "      <th>lweight</th>\n",
       "      <td>0.300232</td>\n",
       "      <td>1.000000</td>\n",
       "      <td>0.316723</td>\n",
       "      <td>0.437042</td>\n",
       "      <td>0.181054</td>\n",
       "      <td>0.156829</td>\n",
       "      <td>0.023558</td>\n",
       "      <td>0.074166</td>\n",
       "    </tr>\n",
       "    <tr>\n",
       "      <th>age</th>\n",
       "      <td>0.286324</td>\n",
       "      <td>0.316723</td>\n",
       "      <td>1.000000</td>\n",
       "      <td>0.287346</td>\n",
       "      <td>0.128902</td>\n",
       "      <td>0.172951</td>\n",
       "      <td>0.365915</td>\n",
       "      <td>0.275806</td>\n",
       "    </tr>\n",
       "    <tr>\n",
       "      <th>lbph</th>\n",
       "      <td>0.063168</td>\n",
       "      <td>0.437042</td>\n",
       "      <td>0.287346</td>\n",
       "      <td>1.000000</td>\n",
       "      <td>-0.139147</td>\n",
       "      <td>-0.088535</td>\n",
       "      <td>0.032992</td>\n",
       "      <td>-0.030404</td>\n",
       "    </tr>\n",
       "    <tr>\n",
       "      <th>svi</th>\n",
       "      <td>0.592949</td>\n",
       "      <td>0.181054</td>\n",
       "      <td>0.128902</td>\n",
       "      <td>-0.139147</td>\n",
       "      <td>1.000000</td>\n",
       "      <td>0.671240</td>\n",
       "      <td>0.306875</td>\n",
       "      <td>0.481358</td>\n",
       "    </tr>\n",
       "    <tr>\n",
       "      <th>lcp</th>\n",
       "      <td>0.692043</td>\n",
       "      <td>0.156829</td>\n",
       "      <td>0.172951</td>\n",
       "      <td>-0.088535</td>\n",
       "      <td>0.671240</td>\n",
       "      <td>1.000000</td>\n",
       "      <td>0.476437</td>\n",
       "      <td>0.662533</td>\n",
       "    </tr>\n",
       "    <tr>\n",
       "      <th>gleason</th>\n",
       "      <td>0.426414</td>\n",
       "      <td>0.023558</td>\n",
       "      <td>0.365915</td>\n",
       "      <td>0.032992</td>\n",
       "      <td>0.306875</td>\n",
       "      <td>0.476437</td>\n",
       "      <td>1.000000</td>\n",
       "      <td>0.757056</td>\n",
       "    </tr>\n",
       "    <tr>\n",
       "      <th>pgg45</th>\n",
       "      <td>0.483161</td>\n",
       "      <td>0.074166</td>\n",
       "      <td>0.275806</td>\n",
       "      <td>-0.030404</td>\n",
       "      <td>0.481358</td>\n",
       "      <td>0.662533</td>\n",
       "      <td>0.757056</td>\n",
       "      <td>1.000000</td>\n",
       "    </tr>\n",
       "  </tbody>\n",
       "</table>\n",
       "</div>"
      ],
      "text/plain": [
       "           lcavol   lweight       age      lbph       svi       lcp   gleason  \\\n",
       "lcavol   1.000000  0.300232  0.286324  0.063168  0.592949  0.692043  0.426414   \n",
       "lweight  0.300232  1.000000  0.316723  0.437042  0.181054  0.156829  0.023558   \n",
       "age      0.286324  0.316723  1.000000  0.287346  0.128902  0.172951  0.365915   \n",
       "lbph     0.063168  0.437042  0.287346  1.000000 -0.139147 -0.088535  0.032992   \n",
       "svi      0.592949  0.181054  0.128902 -0.139147  1.000000  0.671240  0.306875   \n",
       "lcp      0.692043  0.156829  0.172951 -0.088535  0.671240  1.000000  0.476437   \n",
       "gleason  0.426414  0.023558  0.365915  0.032992  0.306875  0.476437  1.000000   \n",
       "pgg45    0.483161  0.074166  0.275806 -0.030404  0.481358  0.662533  0.757056   \n",
       "\n",
       "            pgg45  \n",
       "lcavol   0.483161  \n",
       "lweight  0.074166  \n",
       "age      0.275806  \n",
       "lbph    -0.030404  \n",
       "svi      0.481358  \n",
       "lcp      0.662533  \n",
       "gleason  0.757056  \n",
       "pgg45    1.000000  "
      ]
     },
     "execution_count": 107,
     "metadata": {},
     "output_type": "execute_result"
    }
   ],
   "source": [
    "# Table 3.1\n",
    "\n",
    "df_txt = pd.read_csv(filename,index_col=0)\n",
    "\n",
    "# select the textbook's training data set\n",
    "train = df_txt['train']=='T'\n",
    "\n",
    "# drop 'lpsa' and 'train'\n",
    "df_txt_train = df_txt[train]\n",
    "df_dropped = df_txt_train[train].drop(columns=['lpsa','train'],inplace=False)\n",
    "\n",
    "# Normalizing dataset\n",
    "dnorm = (df_dropped-df_dropped.mean())/(df_dropped.std())\n",
    "\n",
    "# figure 3.1\n",
    "dnorm.corr()"
   ]
  },
  {
   "cell_type": "markdown",
   "metadata": {
    "id": "VpJAasArGm5f"
   },
   "source": [
    "Replicating Tables 3.1 and 3.2 using 80% train, 10% validation, 10% test"
   ]
  },
  {
   "cell_type": "code",
   "execution_count": 108,
   "metadata": {
    "colab": {
     "base_uri": "https://localhost:8080/",
     "height": 297
    },
    "id": "OcpMlxdCGkGa",
    "outputId": "2548bcd6-bcc6-45a8-a402-41db0ccc405b"
   },
   "outputs": [
    {
     "data": {
      "text/html": [
       "<div>\n",
       "<style scoped>\n",
       "    .dataframe tbody tr th:only-of-type {\n",
       "        vertical-align: middle;\n",
       "    }\n",
       "\n",
       "    .dataframe tbody tr th {\n",
       "        vertical-align: top;\n",
       "    }\n",
       "\n",
       "    .dataframe thead th {\n",
       "        text-align: right;\n",
       "    }\n",
       "</style>\n",
       "<table border=\"1\" class=\"dataframe\">\n",
       "  <thead>\n",
       "    <tr style=\"text-align: right;\">\n",
       "      <th></th>\n",
       "      <th>lcavol</th>\n",
       "      <th>lweight</th>\n",
       "      <th>age</th>\n",
       "      <th>lbph</th>\n",
       "      <th>svi</th>\n",
       "      <th>lcp</th>\n",
       "      <th>gleason</th>\n",
       "      <th>pgg45</th>\n",
       "    </tr>\n",
       "  </thead>\n",
       "  <tbody>\n",
       "    <tr>\n",
       "      <th>lcavol</th>\n",
       "      <td>1.000000</td>\n",
       "      <td>0.330887</td>\n",
       "      <td>0.253054</td>\n",
       "      <td>0.020984</td>\n",
       "      <td>0.524273</td>\n",
       "      <td>0.660119</td>\n",
       "      <td>0.460456</td>\n",
       "      <td>0.406284</td>\n",
       "    </tr>\n",
       "    <tr>\n",
       "      <th>lweight</th>\n",
       "      <td>0.330887</td>\n",
       "      <td>1.000000</td>\n",
       "      <td>0.398339</td>\n",
       "      <td>0.512871</td>\n",
       "      <td>0.150092</td>\n",
       "      <td>0.188365</td>\n",
       "      <td>0.090880</td>\n",
       "      <td>0.116662</td>\n",
       "    </tr>\n",
       "    <tr>\n",
       "      <th>age</th>\n",
       "      <td>0.253054</td>\n",
       "      <td>0.398339</td>\n",
       "      <td>1.000000</td>\n",
       "      <td>0.367311</td>\n",
       "      <td>0.145991</td>\n",
       "      <td>0.168915</td>\n",
       "      <td>0.289043</td>\n",
       "      <td>0.317806</td>\n",
       "    </tr>\n",
       "    <tr>\n",
       "      <th>lbph</th>\n",
       "      <td>0.020984</td>\n",
       "      <td>0.512871</td>\n",
       "      <td>0.367311</td>\n",
       "      <td>1.000000</td>\n",
       "      <td>-0.110736</td>\n",
       "      <td>0.030305</td>\n",
       "      <td>0.052415</td>\n",
       "      <td>0.064306</td>\n",
       "    </tr>\n",
       "    <tr>\n",
       "      <th>svi</th>\n",
       "      <td>0.524273</td>\n",
       "      <td>0.150092</td>\n",
       "      <td>0.145991</td>\n",
       "      <td>-0.110736</td>\n",
       "      <td>1.000000</td>\n",
       "      <td>0.658208</td>\n",
       "      <td>0.328532</td>\n",
       "      <td>0.366586</td>\n",
       "    </tr>\n",
       "    <tr>\n",
       "      <th>lcp</th>\n",
       "      <td>0.660119</td>\n",
       "      <td>0.188365</td>\n",
       "      <td>0.168915</td>\n",
       "      <td>0.030305</td>\n",
       "      <td>0.658208</td>\n",
       "      <td>1.000000</td>\n",
       "      <td>0.542650</td>\n",
       "      <td>0.643739</td>\n",
       "    </tr>\n",
       "    <tr>\n",
       "      <th>gleason</th>\n",
       "      <td>0.460456</td>\n",
       "      <td>0.090880</td>\n",
       "      <td>0.289043</td>\n",
       "      <td>0.052415</td>\n",
       "      <td>0.328532</td>\n",
       "      <td>0.542650</td>\n",
       "      <td>1.000000</td>\n",
       "      <td>0.787130</td>\n",
       "    </tr>\n",
       "    <tr>\n",
       "      <th>pgg45</th>\n",
       "      <td>0.406284</td>\n",
       "      <td>0.116662</td>\n",
       "      <td>0.317806</td>\n",
       "      <td>0.064306</td>\n",
       "      <td>0.366586</td>\n",
       "      <td>0.643739</td>\n",
       "      <td>0.787130</td>\n",
       "      <td>1.000000</td>\n",
       "    </tr>\n",
       "  </tbody>\n",
       "</table>\n",
       "</div>"
      ],
      "text/plain": [
       "           lcavol   lweight       age      lbph       svi       lcp   gleason  \\\n",
       "lcavol   1.000000  0.330887  0.253054  0.020984  0.524273  0.660119  0.460456   \n",
       "lweight  0.330887  1.000000  0.398339  0.512871  0.150092  0.188365  0.090880   \n",
       "age      0.253054  0.398339  1.000000  0.367311  0.145991  0.168915  0.289043   \n",
       "lbph     0.020984  0.512871  0.367311  1.000000 -0.110736  0.030305  0.052415   \n",
       "svi      0.524273  0.150092  0.145991 -0.110736  1.000000  0.658208  0.328532   \n",
       "lcp      0.660119  0.188365  0.168915  0.030305  0.658208  1.000000  0.542650   \n",
       "gleason  0.460456  0.090880  0.289043  0.052415  0.328532  0.542650  1.000000   \n",
       "pgg45    0.406284  0.116662  0.317806  0.064306  0.366586  0.643739  0.787130   \n",
       "\n",
       "            pgg45  \n",
       "lcavol   0.406284  \n",
       "lweight  0.116662  \n",
       "age      0.317806  \n",
       "lbph     0.064306  \n",
       "svi      0.366586  \n",
       "lcp      0.643739  \n",
       "gleason  0.787130  \n",
       "pgg45    1.000000  "
      ]
     },
     "execution_count": 108,
     "metadata": {},
     "output_type": "execute_result"
    }
   ],
   "source": [
    "# Table 3.1 - Correlations of predictors in the prostate cancer data\n",
    "# X_train_std is the standardized features without the intercept column\n",
    "(X_train_std).corr()"
   ]
  },
  {
   "cell_type": "code",
   "execution_count": 109,
   "metadata": {
    "id": "dj85MamUup0-"
   },
   "outputs": [],
   "source": [
    "X_train_std.insert(0,\"Intercept\",np.ones((len(X_train_std),1)),allow_duplicates=False)\n",
    "\n",
    "# Now X_train_std has the intercept column of ones"
   ]
  },
  {
   "cell_type": "code",
   "execution_count": 110,
   "metadata": {
    "id": "4Lu6k6QfOuI-"
   },
   "outputs": [],
   "source": [
    "Xt = np.array(X_train_std.transpose())\n",
    "Xarr = np.array(X_train_std)\n",
    "yarr = np.array(y_train)\n",
    "inv = np.linalg.inv(Xt@Xarr)\n",
    "beta_h = inv@Xt@yarr\n",
    "\n",
    "# Calculating the standard error\n",
    "var = np.sum((yarr-(Xarr@beta_h))**2)/(Xarr.shape[0]-Xarr.shape[1])\n",
    "v= np.diag(inv)\n",
    "stderr = np.sqrt(var) * np.sqrt(v)\n",
    "\n",
    "# Calculating the Z Score \n",
    "zscore = beta_h / stderr"
   ]
  },
  {
   "cell_type": "markdown",
   "metadata": {
    "id": "JEi7yruPCRsG"
   },
   "source": [
    "![Screen Shot 2022-10-06 at 4.42.27 PM.png](data:image/png;base64,iVBORw0KGgoAAAANSUhEUgAAA2gAAABoCAYAAACE/tOgAAAMa2lDQ1BJQ0MgUHJvZmlsZQAASImVVwdYU8kWnluSkJDQAhGQEnoTRHqREkKLICBVEJWQBBJKjAlBxY4sq+DaRRQruiqi6FoAWVREXeui2F3LYkFBWRd1URSVNymg677yvZNv7vz3zJn/lDuTewcA7X6uRJKH6gCQLy6QxkeEMCempjFJTwFJ+bMEflyeTMKKi4sGUIb6v8vbmwBR9NecFVz/HP+voscXyHgAIOkQZ/JlvHyIWwDAN/Ik0gIAiAq91YwCiQIvgFhfCgOEeI0CZ6vwbgXOVOFmpU1iPBviKwBoULlcaTYAWvegnlnIy4Y8Wh8hdhXzRWIAtEdBHMgTcvkQK2IflZ8/TYErIbaH9hKIYTzAJ/Mrzuy/8WcO83O52cNYlZdSNEJFMkked9b/WZr/Lfl58iEftrBRhdLIeEX+sIa3c6dFKTAV4h5xZkysotYQ94v4qroDgFKE8sgklT1qwpOxYf0AA2JXPjc0CmITiMPFeTHRan1mliicAzFcLehMUQEnEWJDiBcLZGEJaput0mnxal9ofZaUzVLrz3GlSr8KXw/kuUksNf9roYCj5se0ioSJKRBTILYuFCXHQKwFsYssNyFKbTO2SMiOGbKRyuMV8VtDHC8QR4So+LHCLGl4vNq+LF82lC+2VSjixKjxwQJhYqSqPthpHlcZP8wFuyIQs5KGeASyidFDufAFoWGq3LEugTgpQc3TLykIiVfNxSmSvDi1PW4pyItQ6C0h9pAVJqjn4skFcHGq+PEsSUFcoipOvCiHOy5OFQ++AkQDNggFTCCHLRNMAzlA1NbT0APvVCPhgAukIBsIgLNaMzQjRTkihtcEUAT+gEgAZMPzQpSjAlAI9Z+GtaqrM8hSjhYqZ+SCpxDngyiQB+/lylniYW/J4AnUiP7hnQsbD8abB5ti/N/rh7RfNCyoiVZr5EMemdpDlsQwYigxkhhOdMCN8UDcH4+G12DY3HAf3Hcojy/2hKeEdsIjwg1CB+HOVFGx9Jsox4MOyB+urkXm17XAbSGnJx6CB0B2yIwzcGPgjHtAPyw8CHr2hFq2Om5FVZjfcP8tg6+ehtqO7EpGySPIwWT7b2dqOWp5DrMoav11fVSxZg7Xmz088q1/9lfV58M+6ltLbDF2CDuLncTOY81YA2BiJ7BG7BJ2TIGHV9cT5eoa8havjCcX8oj+4Y+r9qmopMy11rXb9aNqrEAws0Cx8djTJLOkomxhAZMF3w4CJkfMcxnFdHN1cwNA8a5R/X29YSjfIQjjwhdd8X0AAlIHBwebv+ii4f493AW3f88XnV0tALTjAJz7jieXFqp0uOJCgP8S2nCnGQEzYAXsYT5uwAv4g2AQBsaBWJAIUsEUWGUhXOdSMAPMAQtBKSgHK8BasAFsAdvBbrAPHAQNoBmcBL+Ai+AKuAHuwtXTCV6AXvAWDCAIQkJoCB0xQswRG8QJcUN8kEAkDIlG4pFUJAPJRsSIHJmDLELKkVXIBmQbUoP8hBxFTiLnkXbkDvIQ6UZeIx9QDKWi+qgpaouORn1QFhqFJqKT0Wx0OlqElqDL0Eq0Gt2L1qMn0YvoDbQDfYH2YQDTxBiYBeaM+WBsLBZLw7IwKTYPK8MqsGqsDmuCz/ka1oH1YO9xIk7HmbgzXMGReBLOw6fj8/Cl+AZ8N16Pn8av4Q/xXvwzgUYwITgR/AgcwkRCNmEGoZRQQdhJOEI4A/dSJ+EtkUhkEO2I3nAvphJziLOJS4mbiPuJLcR24mNiH4lEMiI5kQJIsSQuqYBUSlpP2ks6QbpK6iT1a2hqmGu4aYRrpGmINYo1KjT2aBzXuKrxTGOArEO2IfuRY8l88izycvIOchP5MrmTPEDRpdhRAiiJlBzKQkolpY5yhnKP8kZTU9NS01dzgqZIc4FmpeYBzXOaDzXfU/WojlQ2NZ0qpy6j7qK2UO9Q39BoNFtaMC2NVkBbRquhnaI9oPVr0bVctDhafK35WlVa9VpXtV5qk7VttFnaU7SLtCu0D2lf1u7RIevY6rB1uDrzdKp0jurc0unTpeuO0Y3VzdddqrtH97xulx5Jz1YvTI+vV6K3Xe+U3mM6Rreis+k8+iL6DvoZeqc+Ud9On6Ofo1+uv0+/Tb/XQM/AwyDZYKZBlcExgw4GxrBlcBh5jOWMg4ybjA8jTEewRghGLBlRN+LqiHeGIw2DDQWGZYb7DW8YfjBiGoUZ5RqtNGowum+MGzsaTzCeYbzZ+Ixxz0j9kf4jeSPLRh4c+ZsJauJoEm8y22S7ySWTPlMz0whTiel601OmPWYMs2CzHLM1ZsfNus3p5oHmIvM15ifMnzMNmCxmHrOSeZrZa2FiEWkht9hm0WYxYGlnmWRZbLnf8r4VxcrHKstqjVWrVa+1ufV46znWtda/2ZBtfGyENutsztq8s7WzTbH93rbBtsvO0I5jV2RXa3fPnmYfZD/dvtr+ugPRwcch12GTwxVH1NHTUehY5XjZCXXychI5bXJqH0UY5TtKPKp61C1nqjPLudC51vmhC8Ml2qXYpcHl5Wjr0WmjV44+O/qzq6drnusO17tj9MaMG1M8pmnMazdHN55bldt1d5p7uPt890b3Vx5OHgKPzR63Peme4z2/92z1/OTl7SX1qvPq9rb2zvDe6H3LR98nzmepzzlfgm+I73zfZt/3fl5+BX4H/f70d/bP9d/j3zXWbqxg7I6xjwMsA7gB2wI6ApmBGYFbAzuCLIK4QdVBj4KtgvnBO4OfsRxYOay9rJchriHSkCMh79h+7LnsllAsNCK0LLQtTC8sKWxD2INwy/Ds8Nrw3gjPiNkRLZGEyKjIlZG3OKYcHqeG0zvOe9zccaejqFEJURuiHkU7Rkujm8aj48eNXz3+XoxNjDimIRbEcmJXx96Ps4ubHvfzBOKEuAlVE57Gj4mfE382gZ4wNWFPwtvEkMTliXeT7JPkSa3J2snpyTXJ71JCU1aldEwcPXHuxIupxqmi1MY0Ulpy2s60vklhk9ZO6kz3TC9NvznZbvLMyeenGE/Jm3JsqvZU7tRDGYSMlIw9GR+5sdxqbl8mJ3NjZi+PzVvHe8EP5q/hdwsCBKsEz7ICslZldWUHZK/O7hYGCSuEPSK2aIPoVU5kzpacd7mxubtyB/NS8vbna+Rn5B8V64lzxaenmU2bOa1d4iQplXRM95u+dnqvNEq6U4bIJssaC/ThR/0lub38O/nDwsDCqsL+GckzDs3UnSmeeWmW46wls54VhRf9OBufzZvdOsdizsI5D+ey5m6bh8zLnNc632p+yfzOBRELdi+kLMxd+Guxa/Gq4r8WpSxqKjEtWVDy+LuI72pLtUqlpbe+9/9+y2J8sWhx2xL3JeuXfC7jl10ody2vKP+4lLf0wg9jfqj8YXBZ1rK25V7LN68grhCvuLkyaOXuVbqrilY9Xj1+df0a5pqyNX+tnbr2fIVHxZZ1lHXydR2V0ZWN663Xr1j/cYNww42qkKr9G002Ltn4bhN/09XNwZvrtphuKd/yYato6+1tEdvqq22rK7YTtxduf7ojecfZH31+rNlpvLN856dd4l0du+N3n67xrqnZY7JneS1aK6/t3pu+98q+0H2Ndc512/Yz9pcfAAfkB57/lPHTzYNRB1sP+RyqO2xzeOMR+pGyeqR+Vn1vg7ChozG1sf3ouKOtTf5NR352+XlXs0Vz1TGDY8uPU46XHB88UXSir0XS0nMy++Tj1qmtd09NPHX99ITTbWeizpz7JfyXU2dZZ0+cCzjXfN7v/NELPhcaLnpdrL/keenIr56/Hmnzaqu/7H258Yrvlab2se3HrwZdPXkt9Nov1znXL96IudF+M+nm7Vvptzpu82933cm78+q3wt8G7i64R7hXdl/nfsUDkwfVvzv8vr/Dq+PYw9CHlx4lPLr7mPf4xRPZk4+dJU9pTyuemT+r6XLrau4O777yfNLzzheSFwM9pX/o/rHxpf3Lw38G/3mpd2Jv5yvpq8HXS98Yvdn1l8dfrX1xfQ/e5r8deFfWb9S/+73P+7MfUj48G5jxkfSx8pPDp6bPUZ/vDeYPDkq4Uq7yUwCDDc3KAuD1LvidkAoAHZ7bKJNUZ0GlIKrzqxKB/4RV50WleAFQBzvFZzy7BYADsNkugNzwXvEJnxgMUHf34aYWWZa7m4qLCk9ChP7BwTemAJCaAPgkHRwc2DQ4+GkHDPYOAC3TVWdQhRDhmWFrsALdMEzvB9+I6nz6VY7f9kARgQf4tv8X1lKQpiP9b+YAAACKZVhJZk1NACoAAAAIAAQBGgAFAAAAAQAAAD4BGwAFAAAAAQAAAEYBKAADAAAAAQACAACHaQAEAAAAAQAAAE4AAAAAAAAAkAAAAAEAAACQAAAAAQADkoYABwAAABIAAAB4oAIABAAAAAEAAANooAMABAAAAAEAAABoAAAAAEFTQ0lJAAAAU2NyZWVuc2hvdA8xyzwAAAAJcEhZcwAAFiUAABYlAUlSJPAAAAHWaVRYdFhNTDpjb20uYWRvYmUueG1wAAAAAAA8eDp4bXBtZXRhIHhtbG5zOng9ImFkb2JlOm5zOm1ldGEvIiB4OnhtcHRrPSJYTVAgQ29yZSA2LjAuMCI+CiAgIDxyZGY6UkRGIHhtbG5zOnJkZj0iaHR0cDovL3d3dy53My5vcmcvMTk5OS8wMi8yMi1yZGYtc3ludGF4LW5zIyI+CiAgICAgIDxyZGY6RGVzY3JpcHRpb24gcmRmOmFib3V0PSIiCiAgICAgICAgICAgIHhtbG5zOmV4aWY9Imh0dHA6Ly9ucy5hZG9iZS5jb20vZXhpZi8xLjAvIj4KICAgICAgICAgPGV4aWY6UGl4ZWxZRGltZW5zaW9uPjEwNDwvZXhpZjpQaXhlbFlEaW1lbnNpb24+CiAgICAgICAgIDxleGlmOlBpeGVsWERpbWVuc2lvbj44NzI8L2V4aWY6UGl4ZWxYRGltZW5zaW9uPgogICAgICAgICA8ZXhpZjpVc2VyQ29tbWVudD5TY3JlZW5zaG90PC9leGlmOlVzZXJDb21tZW50PgogICAgICA8L3JkZjpEZXNjcmlwdGlvbj4KICAgPC9yZGY6UkRGPgo8L3g6eG1wbWV0YT4KHpN9RwAAABxpRE9UAAAAAgAAAAAAAAA0AAAAKAAAADQAAAA0AAAeuTB3gDIAAB6FSURBVHgB7J0HtBRVEoZLRRZBhFXEJUuQoOQkeQFJIgqSFgMIEl0QCSqgIuAiiiAgKzlHEVxAkihRQEkGQESQLKsSFBXZFeNs/ffQvZPTm9Bv3l/nvDM9t2/f8HW/6aobqq5wqQiFBEiABEiABEiABEiABEiABEgg6QSuoIGW9HvABpAACZAACZAACZAACZAACZCAIUADjQ8CCZAACZAACZAACZAACZAACTiEAA00h9wINoMESIAESIAESIAESIAESIAEaKDxGSABEiABEiABEiABEiABEiABhxCggeaQG8FmkAAJkAAJkAAJkAAJkAAJkAANND4DJEACJEACJEACJEACJEACJOAQAjTQHHIj2AwSIAESIAESIAESIAESIAESoIHGZ4AESIAESIAESIAESIAESIAEHEKABppDbgSbQQIkQAIkQAIkQAIkQAIkQAI00PgMkAAJkAAJkAAJkAAJkAAJkIBDCNBAc8iNYDNIgARIgARIgARIgARIgARIgAYanwESIAESIAESIAESIAESIAEScAgBGmgJuBHnz5+XzJkzy7XXXpuA2lgFCZAACZAACZAACZAACZBAeiVAAy3Od+7rr7+WVi1byvU33CCLFi2ikRZn3iyeBEiABEiABEiABEiABNIzARpocbx7Z86ckZb33isnTpwwtVSpUkUWLFwo2bJli2OtLJoESIAESIAESIAESIAESCC9EqCBFqc7d1aNs1atWsmxY8ekefPm8u2338q2bdukevXqMm/+fLnmmmviVDOLjZTA6dOn5dy5c5FeZue/4oorpFixYpIlSxY7jQepRYDPSGrdT/aGBEiABEiABJxMgAZaHO4OlP3WapwdOXJE+vXvL/3177dff5X+jz8ubyxZIrVq1ZK58+bJn/70pzjUziIjIfDbb79JlcqV5ezZs5Fc5pN33Lhx0qZtW590Jvgn8Msvv8gLI0bIpk2bZNPmzQIj16nCZ8Spd4btIgESIAESIIHUJEADLcb39Vc1xBo3aiRHjx6VkS+9JO3atfOoYeSLL8r48eOlcePGMnPWLI9z/JJ4Ahs3bpT2Dz4ohQoVkp69ekm9evUkR44ckjVrVtOYOrVrm1nQG3QP4ZatWyVnzpzicrkEBsZnn30mgwcPlo8+/FCWqOFdo2bNxHcgHdUI1lj2u/+TT2TNmjW2UXzi5Em5+uqrHdsTPiOOvTVsGAmQAAmQAAmkJAEaaDG+rVDeRzz/vNTUWbK6dev6LX3BggVGwe/UqZPf80xMHIFH1SjbsmWLrFi50hhp7jXD+2bZMmWMQdZSHb3889VX3U+b49WrVkm3bt1k9wcfSN68eX3OM+H/BBo1bCi//f67lFGm12XPLjNnzjQnnW6g8Rn5/z3kEQmQAAmQAAmQQPwJ0ECLP2PW4FAC//3vf6Vc2bIycNAg6dy5s08rMcvTtUsXkz765Zflvvvu88mzVWfVHurQQY7qXkMnL9PzaXiSEzZu2CDt27c3rXCygcZnJMkPCqsnARIgARIggQxIgAZaBrzpye4y9ubBqUayZfny5TJwwAD5QJco+otR98zTT8usy8tQ33//fSl0880+TX7jjTdk4oQJslH3UjlJjh8/LoULF3ZSkzzakl4MtFR+RjxuCL+QAAmQAAk4joBT9KW0gnG6TpLW/sXjehpo8aDKMv0SwGxEjx495P333pODhw5JpkyZ/OZLVOL06dPl4o8/Sp++ff1WWb9+fTl08KBZuogljP5k5YoVsmfvXrMXzd/5ZKR99dVXcnvVqnL//ffLiBdekKuuuioZzQhaZ3ox0FL1GQl6c3iSBEiABEggqQScpi+lBUZ60EnS0r94XUsDLV5kL5eLfzLsU9q/f798/8MPUkRnNarXqCEVKlRwtGOEWGMBh3Z/+5t8qLNVU6dNk7vuuivWVcS0PIRFwPJH7Cls3bq1vKKOXdKTzJk9W5566ilp2rSpTJk6Va688kpHNT+9GGjBoKX3ZyRY33iOBEiABEggOQTSm74UDiWn6yTh9CHReWigxZE4ZleGDh0qP6hhVl4NshzXXSeffvqpnDp1Ssqq8v/64sVynaalusDI6a6ONFavXi1ddE/XsOees7uMJYTwaplV48LBk9+VOtuDvVyW0/U/9Fq1kgSuzuEhEz9c89XJChxNQNauXSuDBg6Ua9TrYma361Hnr+ppEdfg73d1ToHrSpcubdcd7ABt7da1q8ny8pgxPt44g12Lc07o12OPPWbCOvR45BFHzfCBTyQGmhNYos3ektZnxLs8ficBEiABEsjYBILpS8HI/Oc//5GT6hE5W7ZsUqBAgYQNyl64cEG+/PJLU2/BggWDNVGcrJMEbXiSTtJAixP4kSNHyvhXXpG2Omv0tO5lypUrl6kJ8dCeUwNlxowZxkhbumxZygethgGG8AKYNcSenkxuLtUnT5ok//jHPyK6C+vWr5dbb73VXLNCjeBHdNlkODJ37ly5o0GDcLKKx/6z7dt9PDyGKsQJ/frpp5+kWbNmclDDAUyYOFFatGgRqtkJOx+JgeYElv7ApPUZ8Vcm00iABEiABDIugWD6kjeV7777zuyB/9e//mVC2FjnEWO3RIkS0l11o+bNm8fcgRkGvaFPvbZwoQk3ZNWLEEUIVYQQU/729TtZJ7H64KRPGmhxuBtTp0yRYcOGyUMdO8oIDcbrLTDSqlSpYuJAzZ4zRxqq+/FUFWwMrafhBrJkySLr1XNf/vz5PbqKHxj3INHD1VhD3Clvya5u2WHMopwiRYrYp3/U0Rt4ATyr8bXww/bB5b1iRYsWNXvL4Po+p/5oXKFL/FA3RpfCkfr6I3NI98nly5dPdu3eHc4lHnmc0q/Dhw/LHbqXDvHbtm7bZmK8eTTU6wtmGjEKhx/gaASzn2AWinMkBppTWHrzSOsz4l0ev5MACZAACWRcAqH0JXcy2C7ygO4zx4zbAxrLFXvm8+TJIydPnJCx48aZ+KzIj1VDC197TRDLNRaC+K89e/Y0+/P/8pe/SFddaVSxUiXJpKufNm/eLK/oxETx4sWNvga9zVsi1Um8r89Q3/XmUmJIYN++fa5CBQu6+vfr5/rjD12gF0B0D5Yrb548riHPPhsgR2okqwt6088XRowIq0Pnzp1zlS9XzlwDPu5/L774YsAy1KhwlSxZ0uQvpZ9ffPFFwLyhTnzzzTeufHnzmrJ69+4dKntY55PZr+7du5u+PDVoUMi2Ll261IO5O/9wj1FfKNmwfr1djwb9DpXd43wyWVoNicczYpXNTxIgARIggYxHIFx9SZcUusqULu2qXauWC+9Db9GZKnPOemff3ayZK9L3rHeZ+L5nzx4X9CuU26ZNG9eFH37wyDZl8mT7va5bfDzOuX+JRCdxvy6jHXMGLcbm+P0aKwtuUTFbgWnmQHJnkyaixpw0atRIZqlDh1QUxAiDYxB4Edyxc2fYgZzfffdde2TInQscXSzWfXtwsuIumO1podP4+uNhksETXKMVK/g0rh8zdqz8TfsQC0lWv8DlLnUWgvuwQWcnb7nlloDdwR4/zG79/scfAfOEOoH9laFc/Ecyg+avvmSxtNoSr2fEKp+fJEACJEACGYdAJPqSGkJmqwzoVK9e3cyQZc6c2QPW/PnzZcCTT9pp8HlQq1Yt+3ukB9jjVqtmTbPiCSGH3nnnHY9ljFgZBt1CDUFTdIeHHpIX1Iu0P4lEJ/F3fYZJy2gWaTz7u3fvXjN6oLGxglajSrCrWNGiJm+/vn2D5k3PJztcnj3TKfCIu6H79OyRGGsUCJ8VK1RwnT9/3qM83Qtk59X9bB7novmCmSarzrTMxPmrO1n9atWypenTs4MH+2tWwtPSMoNmNTZZLFF/PJ8Rq3/8JAESIAESyBgEItGXOnXsaOso0FU0dJEPpF27dnnkGTVqlE+eSBJGjx5tl4f3t7eoIzdXieLF7TzqIM87i8d3p+kkHo1zyBesX6XEiEDXLl1cDe64I+jSRlS1ZMkS+yFesnhxjGp3VjFnTp92Fcif3/Rz+/btETcO0/FNGje2OVkGEz7x42TJqpUr7Tw6i+bS2TTrVNSfumfOlFm1SpWoywh0YbL6pZuITZ9uLVXK9fPPPwdqXsLSY2GgJYslIMXzGUnYTWBFJEACJEACSScQqb7Up08fW++BTvT555/79EE9hnvkeWXcOJ884SacOXPGnlSoWaNGQB13zZo1rra69BETD7gmmDhNJwnW1mSdo4EWI/LHjh1z5c+XzzVz5sygJbqvDa5erZpLXcEHzZ9eT06cMME2CKLtA5jeUqyYx4+MZajNUs4njh+3R2ywHvvrr7+Otir7OnVYYtenLmHt9FgeJKNfGijS7lewteGx7GewstavW2e3Jy0GYzJYJuIZCcaO50iABEiABFKHQKT6km6jccGPQbXbb3eNHTPGLwis5LL0JXzu2LHDb75wEp94/HG7rOeHDw/nkpB5nKaThGxwEjJwD1qMFrNOUjfmWG/74UcfyY033ui3VHUaIvqgy6JFi8za3eVvvimlSpXymze9J2LvGdZU11UPjgvUFWu0svj116Vv374+l2O99fXXXy+nT5828T5QR506dXzyhZNw9OhR+fHHH83fIvV2hFAAkHt0X1tH9cR5jcZogwdI1BcrSUS/vNuqP+YmBt+D6vEJbnATLSfUuxRiAl5U1vN0fTziBEIGaBy7atWqGc7wChXo/ydQexPBMtbPCDxTIng99qniWTYxAHWPpYn3p2v4f9a/ouqtNPdNN3l0W5f3Gu9ZeCav1uvgdROuixFjsWSK/pZ4AOAXEiABEkgxArHSl9yxdNQ9YOvWrTNJeF8cUO+L3vvU3PMHOtYBVCmpLvutvWUzZs6UJupDIRaSbJ0kFn2IZxk00GJEt70qvVCU3tB4FBcvXpQX1Vg79Pnn8sP33xvX8AgcqJ7fZJs6D4G708m6ybOGbrhMRYGSqZ5+TFDpvv36yeNqlKZF/q6Blt9UYzaQ9OvfX/rrXzQC9/yV1EUsFGS48M+UKZNxpgFjGsovfpQuXbpknI5M19h1sZR49stfO3s/+qggXkqxYsXk3S1b/GWJaxpeGHDuAaMEvOG0RAeljEt/PDN4ETw7ZIh07tw54nbEk2U8npHN6o4YLpKDSes2bYzLYvc8iKGIDeLe8uc//1n2f/qpdzK/kwAJkAAJOJhArPUldBUDebpf3w6XA9f3eJ9EI7pFRVq3amVfunPXLuPOHwPZH6mr/+9Vx0VonWrqrAQD8nDmFq4kWycJt53JykcDLQbk8Q92mwZOfkQNiT4624OZgR5Bgidv3LTJBBGMQdWOLALeKeGlEhJJcOhAnUGsM3hlVIcdPlkws7V9x46IfhR8CklSQqL7NX/ePBkwYIDp7acHDpjYaEnqesyrTTTLtHYA8foG6cwh5ODBg4IBAXdBIPYGGlQds4vugpn6SRrc/dtvv7WTMeuIF+SKlSvtNB6QAAmQAAk4n0Cs9SUMdOo+fTMYit5369ZNhgwdGjWIV199VTRMkn39xx9/LA8//LDgEyvA8K7CxIPuOTPemyfq+wmenMORVNZJwul/qDw00EIRCuP8Hn1QdT2wCcx3uy4jwwzaFA1WferUKTNDgOllBE7erIYZRs7hJh5L6TLpLEI0glmHaVOneihp0ZTj7xoEGi6j/1zoT7Ty9ttvy8OdOpnLseQTCmRaBUEZW957r1kC5l3WHA323SCdBvtOZL8we4UwEJDVq1dLeR1hSyVJJMtYcsMLFG773eVNHeSpXLmye5J9jECh6ozIfB85cqQ82L69fY4HJEACJEAC6YdALPSlLboiRh2NyMFDh+TttWsFAa8xaPekDsi20tkv6HXRinp+lhmXVw9hhdF9uvIDbVZnd2Y1DsqFC/5He/Uy6VgdM3XatLBCHaW6ThItc+s6GmgWiTR8TtRR7TEvvyyf6Ug4Hs5Agn1OWHOLKeHH+vSRJ91iVAS6xl869vKoJx1/p2KShj1Ae/bujbqsBQsWyJNPPGGuP6Y/FMHiwUVSyUu6b0o9Eflcgr1hGzR2l/d+HZ+MDk1IVL80DIQ0vfNOQwFLbO++5x6HEom+WYliGX0Lfa90H0G1zmLAAQMP/sR9WchmNbrT8vL1Vz7TSIAESIAEEkMgrfoSjLFmOqCOmTP8WasxEL+1pxpNmBxIi/Tq2VOWLVtmF4F9bCt1QLF06dJ2Gg6wiqVevXqiztoke/bs8rbGSStUqJBHHu8vGUEn8e5zJN9poEVCK0Be7D9DsORF6tAilGCUYenSpZI7d275QGeFsA8nGtm9e3dcZtDQFvxDBwtmHKq943W9M0b2YayeOHkyVPawz8NZCBxC+BMEYHxNna9Esv7ZXznJSEtUv07qvaih68QhQ3SvV7fu3ZPR3bjWmSiWse4EZjYxmmgJjK71OuhQUvdyusu///1vMziDZdVjNYh62xgFUXevg8ckQAIkQAKJIRBLfUlj7MrHumppnOpgGhvNDN7Vq19fxo8fL9inHI08pHvH1euyfWnTpk1l2vTp9nf3g6GqV0zT2TPIvbri6dUJE9xP+xxnBJ3Ep9ORJCTBc2RKVYm4W8VvucWlmzDD6pcaLra7Ul0CGdY16S3T4GeeMX0sW6ZMzJr++qJFNjd317Hux7pWOmb1JaqgRPZLPSjaDAO55k1Uv+NRTyJZxrr9723bZt8b65nWwRyfaqyg7JUrVUrZEB0+nWYCCZAACaQogXjoSzqT5lLPkPY7BTFikRaNdO/e3S4H76ZVq1YFLOatt96y895cqJBL90oHzIsTqa6TBO18GCcZBy0MSMGyqBcb80DqjFawbPY59e5oP8A7d+6001PpQD3qmT7qbE1MuvXZgQOuIoULmzJvr1rVFUgRL1iggEs3rsakzkQUkuh+6dIHE6sPP7Ljxo5NRBcTVkeiWcajY4hrYxln+MTzrI5x7KrwslPX+yaPjlLa6TwgARIgARJInwRirS9ZFCzd1Hqn9O7d2zoV0ad7DDSUhdijgQQBs6368Ll27dpAWU16KuskQTse5kkaaGGCCpQNszbFihYNezRbHQLYDzAivaeiPNKjh+kjAnGnVXTfnqtWzZqmvEIFC9oG2KBBg2yO7j8IMApxjdMlGf3SsAGufHnzGm66Z9LpiMJuXzJYht24CDK6jz5az/RT+pxbMmrUKHPv1GOsSzdlW8n8JAESIAESSKcEYqkveSOoXauWrScVyJ/fdeHCBe8sIb8PGzbMLgPvJV1GGfAaXbLokTfUQGKq6iQBAUV4ggZahMC8s2ssI5fuH/FODvi9YYMG5gEuUby4Cw9nKkq/vn1NH6FIplXcp9fd/9k15pyrXt26Hj8GllKrThTSWm3cr09Gv9yXE8ydMyfufUxUBclgGY++YTSx7l//6vFMY+b43LlzxiC7tVQpcy6VjOt4cGSZJEACJJBeCESjL+Fdro7RXF999VXQbrZv397jfaJ7yYLm93dy1syZHmVgW08gUQchHnnVPX+grCY9VXWSoJ2O4CSdhESyYc8rrxX/DDHPEJA5lMB7Y/ly5YxDkfrqJnuexqWKRhBAecyYMSbwdTTXB7sGzgkqqPt1eACKVqyNonDJetJP7LJwy52pEet1fbbJ7m9jKuJHwSshPBd5yz81dkfLli29kx3xPVn9goMJXSJqGGCTL5imd0kWy3hxW7J4sfRRD6/uoktTBJ5Kh2osm6xZs8pujaGWM2dO9yw8JgESIAESSIcEItWXNqxfL507dzZ6JByxzVU9sk6dOn57rsafvO7mWA1xep+47GHb7wV+EhG+5p6777bPHNAwLzly5LC/ux8gVq2unLKTRo0eLferW/5Akoo6SaC+RpNOAy0aapevgbecZs2ayctqLLVr1y5kSe7K5LPPPivdgwSzDlbYSXWzD6+FljvVYHmjOXfTTTfJRxrbLVqBFx/86ECOHD0qiAMXqSC2XIsWLcyPEFy1Iu5G9uuu8ylm9qxZ8vTTT/ukh+vm1efCOCcks18HNDi1zuCaHi5bvlyqXjbW4tzluBWfTJbx6tRv6g22hobQ+PLLL+0q8P+DwQ5dypnmoKN2oTwgARIgARJIOoFI9aWef/+7LNf3tyXBvCV6e2CMJm6mrlaSUupNGJ7KIRs2bvTxLmy15fDhw6KrQKyvIeOtpppOYnc8Rgc00NIAcoK6EB3x/PMSjrGFQH4wqs5qtPUSJUrImrfekixZskRdO2aPvvvuu6ivD3QhZtAKFiwoefPmDZQlZLpuDJXOGmkegvhkJTXafCSCmcbGjRoJRlcwQrRi5cqgkek7qhvYdW5uYK26KlSsaH7IoNw6QZLdr436w4qQEJCt27ZJkSJFnIAlqjYkm2VUjQ7zIveBHPdL8L+wY+fOiAK/nz17VnQde7qNEejefx6TAAmQQKoRiFRf8g4lg4F+6KD+BMYSjCZLELqllB99LNR7omuXLrJmzRpTzJQpU6SZ24yaVTY+V6muplsOTBJCHn2udQcboE8lncSdQ8yOI1gOyaxeBLD/DPueunTu7HXG8+v58+ddze+5x+QtfPPNLnicS2WBlx9rPxg8LkYi2Ifjvm4a659DCbzbVShf3q7TqhufodZAhyo7Vued0C/sXQITOFu5dOlSrLqW8HKcwDKencYm7NK33ebzPGOvQiSCZx+eIOEY5rnnnovkUuYlARIgARJIAIFI9SWNBWu/G+5s0sR14sQJv63UQUwXXN1b+lClihVdui3HJ2847wnsXbPKefKJJ3zKsBKsMDDI+3j//lZywM9U0UkCdjCNJziDFqWpi/1numlffvnlF8HxWzprVKZMGZ/SEIjvwQceEP0nNEGpR+ua3IwQXBZ77dS5gXTq1EmG6yxjIEEeTJ1fvHhRMCvyxpIlsmDBApP92muvlSlTp4oatZJTgyz6W/eM6PU/Xbok23RGCEHAvQWjOLNnz5YyZcvap2688UYTwNFOiMOBE/vVoUMHwfr1ypUry5srVsSh1/Ep0oks49PT/5f6yrhx8tJLL9kJeI7f3bIl7FlP9dYl5fSZx+8TBKOYGM1Mj4HcbQg8IAESIIEUJBCuvoSuf/PNN1K/Xj3RgWnZtHmzFC9e3C+RITqrNv1yQGn87i9W3ap69eoeeSN5T2hcNdm6dat5l6xTPaJw4cIeZWEW7g4Niq0TEpIrVy7Zonn96WzuF6VXncS9D/E8poEWJV1r/9ncuXNliO63+lYfylGqUN2he3ygDOFhXaL/EJMnTTIPbL58+WTs2LFSU5c5ZgTRcAKyetWqkMZAfuWigwwhkcDhBxx/eAscKsCxQiRy+MgR42whkmsizevEfkFhx497LzVkBz31VKRdSlp+J7KMNwz1biVVq1QxAxeoS2OkyVTd2xmuYMBDvaiawSNckydPHuNcBEuYKSRAAiRAAs4hEK6+ZLUYjjvatG5ttoA8qk6kHtLBV2uPPvSp+eo45Bl1sIbJA8iAgQMFzqa8JZL3xKlTp0RXgskZ3aaD7REz1ImbZRyePn1aunXtKmgX9N9JkydLw4YNvavz+Z5edRKfjsQpgQZalGCx/0yD/cpn6tHmjBpjAwcMEKynveqqqySbzvxcUAULUlaV4jZt28qDuvcnc+bMUdaW/i6zvNFhn92+Tz6RbNmy+e2ELk00e+mwvwZ/YGSN8sMJCmbXdDmedNB9ZjCEvWX48OEyc8YMs58Pe83AH0qopYjixwp/+KHCbALKhwMU1BVPcVq/MJOrMeJMl7Gnr1KlSvHsfkzLdhrLmHYuSGEa6080HILJgT2r5XRWOhKZozPH43QmDp4fnxk8WO5Uj6cUEiABEiABZxEIV19yb/W+ffuMDwTMakH3Kavvh1w33CBHdAAaK7YgMKSwEqO6Op4KJJG8J44fPy49dI/Z/v37TZ3wp4AVSTt27DB6WunSpWXCxIlSrFixQNXZ6elZJ7E7EecDGmhRAsayRSj+CxYutEvACMNR9VqIaePcuXObKWB4RMyIAs8/UKzheW6k/kDAQKUkjwCW1o5Vb6P44cRSOYrzCbTWEdLt778vtWvXlkVurpKd33K2kARIgARIIFwCadGXdu3aJTvVeRQMsy90IBbLC2/V1RO3qbFUt27dmE8MIMzTJp2M+FC9mO/ds8cMipdTXQ/6Xh11ShLu4Dd1ktBPBw200Ix8clj7z3o/9phZLuaTgQmGwECdVp+nS0AxqvL2O++QSpIIYBayiu47w14uLHt4RN30UpJPYO/evbJ82TIz+9tR92q6D+bAMIOBBlmsS3gzytLo5N8VtoAESIAEEk8gI+lL1EnCe75ooIXHySOXtf9sle6xgit3in8CGNHBplEYtKvVRWt5HWGhJJ7AMjUCevXsKTfo8of33nvPXque+JawRosA9phV1IDwWL4LQSgKhKSAYISySePGghgx+J/B/w6FBEiABEggdQlkJH2JOkl4z/H/AAAA//9tGgCNAAAGVElEQVTt271rlWcYB+A7H7plMFAR8Q+I2SVTZhPUYsFmMRhwiHVKzZQsRo0OdRAMiEkrEU0zWKhCtTa10ix2qIMdjNWODlbMmoAQQ9pjBlFQzLl5onLO9U7n4/nd5z0XL4fnl3PS8F/lCEdVAufOnYuxs2fj74cPo6mpqapsvS0+ceJETIyPx759++Ls2Fi9vf1P4v3u3r07/rp3L745fTp6e3s/iXOq95P44cqVOHLkyBsMcw8exKZNm2Lq8uUYGhpafe7qtWvR0dHxxjp3CBAgQKD2BOplv2RPsrZrt0FBWxvU66t69++PhsbGmJqaev1ht98isLi4GJ2dnTH/7FlMXrwYO3fufMsqD62XwOVLl2J4eDja29vj11u3orFy3To+vsAfd+5ET0/PqxPZtm1b/Hn3bvx840YMDAzE8+fP4+DBgzF68uSrNW4QIECAQO0K1MN+yZ5k7devgrZ2q9WVy8vL0b59ewwODsZXhw9Xma7P5bOzs9F34EC0tLTEb7dvx9atW+sT4gO/67m5udhT+fZsw4YN8dP169HW1vaBz8DLvUtgaWkpPt+zJ+7fv7+6pLW1NT7bvDn+efRo9f6XlfJ25swZhfpdgB4nQIBADQrU8n7JnqS6C1ZBq84r5ufno7urK6anp6OtUtQcaxP4dmIijh8/Hjt27Igfr17109C1saVXLSwsRFfl28rHjx/HdxcuRHd3d3qW4PoIvPwsOXr0aPxy82a8/MNPc3NzbK98pnxd+eljV+UzxkGAAAEC9SdQi/sle5Lqr2MFrXoziaTA6OhojJ8/H/2HDsXIyEhyitj7BFZWVuJQf3/MzMzEqVOn4kBf3/sinv+IAssvXsS/T5/Gli1bYuPGjR/xTLw0AQIECHwKArW0X7InyV1RClrOTSopMDk5Gd9X/nfv98rPHh3rI/DkyZP4Yu/eGDl2LHbt2rU+L2IqAQIECBAgsG4CtbJfsifJXSIKWs5NigABAgQIECBAgAABAsUFFLTipAYSIECAAAECBAgQIEAgJ6Cg5dykCBAgQIAAAQIECBAgUFxAQStOaiABAgQIECBAgAABAgRyAgpazk2KAAECBAgQIECAAAECxQUUtOKkBhIgQIAAAQIECBAgQCAnoKDl3KQIECBAgAABAgQIECBQXEBBK05qIAECBAgQIECAAAECBHICClrOTYoAAQIECBAgQIAAAQLFBRS04qQGEiBAgAABAgQIECBAICegoOXcpAgQIECAAAECBAgQIFBcQEErTmogAQIECBAgQIAAAQIEcgIKWs5NigABAgQIECBAgAABAsUFFLTipAYSIECAAAECBAgQIEAgJ6Cg5dykCBAgQIAAAQIECBAgUFxAQStOaiABAgQIECBAgAABAgRyAgpazk2KAAECBAgQIECAAAECxQUUtOKkBhIgQIAAAQIECBAgQCAnoKDl3KQIECBAgAABAgQIECBQXEBBK05qIAECBAgQIECAAAECBHICClrOTYoAAQIECBAgQIAAAQLFBRS04qQGEiBAgAABAgQIECBAICegoOXcpAgQIECAAAECBAgQIFBcQEErTmogAQIECBAgQIAAAQIEcgIKWs5NigABAgQIECBAgAABAsUFFLTipAYSIECAAAECBAgQIEAgJ6Cg5dykCBAgQIAAAQIECBAgUFxAQStOaiABAgQIECBAgAABAgRyAgpazk2KAAECBAgQIECAAAECxQUUtOKkBhIgQIAAAQIECBAgQCAnoKDl3KQIECBAgAABAgQIECBQXEBBK05qIAECBAgQIECAAAECBHICClrOTYoAAQIECBAgQIAAAQLFBRS04qQGEiBAgAABAgQIECBAICegoOXcpAgQIECAAAECBAgQIFBcQEErTmogAQIECBAgQIAAAQIEcgIKWs5NigABAgQIECBAgAABAsUFFLTipAYSIECAAAECBAgQIEAgJ6Cg5dykCBAgQIAAAQIECBAgUFxAQStOaiABAgQIECBAgAABAgRyAgpazk2KAAECBAgQIECAAAECxQUUtOKkBhIgQIAAAQIECBAgQCAnoKDl3KQIECBAgAABAgQIECBQXEBBK05qIAECBAgQIECAAAECBHICClrOTYoAAQIECBAgQIAAAQLFBRS04qQGEiBAgAABAgQIECBAICfwP/2QHmqRGfHyAAAAAElFTkSuQmCC)"
   ]
  },
  {
   "cell_type": "code",
   "execution_count": 111,
   "metadata": {
    "colab": {
     "base_uri": "https://localhost:8080/",
     "height": 328
    },
    "id": "S8psQkldOUSV",
    "outputId": "a6fe1362-7e7e-46e5-99b3-7b514a533c77"
   },
   "outputs": [
    {
     "data": {
      "text/html": [
       "<div>\n",
       "<style scoped>\n",
       "    .dataframe tbody tr th:only-of-type {\n",
       "        vertical-align: middle;\n",
       "    }\n",
       "\n",
       "    .dataframe tbody tr th {\n",
       "        vertical-align: top;\n",
       "    }\n",
       "\n",
       "    .dataframe thead th {\n",
       "        text-align: right;\n",
       "    }\n",
       "</style>\n",
       "<table border=\"1\" class=\"dataframe\">\n",
       "  <thead>\n",
       "    <tr style=\"text-align: right;\">\n",
       "      <th></th>\n",
       "      <th>Coefficient</th>\n",
       "      <th>Std. Error</th>\n",
       "      <th>Z Score</th>\n",
       "    </tr>\n",
       "  </thead>\n",
       "  <tbody>\n",
       "    <tr>\n",
       "      <th>Intercept</th>\n",
       "      <td>2.44021</td>\n",
       "      <td>0.07989</td>\n",
       "      <td>30.54631</td>\n",
       "    </tr>\n",
       "    <tr>\n",
       "      <th>lcavol</th>\n",
       "      <td>0.69596</td>\n",
       "      <td>0.11940</td>\n",
       "      <td>5.82871</td>\n",
       "    </tr>\n",
       "    <tr>\n",
       "      <th>lweight</th>\n",
       "      <td>0.22552</td>\n",
       "      <td>0.10435</td>\n",
       "      <td>2.16105</td>\n",
       "    </tr>\n",
       "    <tr>\n",
       "      <th>age</th>\n",
       "      <td>-0.13627</td>\n",
       "      <td>0.09619</td>\n",
       "      <td>-1.41668</td>\n",
       "    </tr>\n",
       "    <tr>\n",
       "      <th>lbph</th>\n",
       "      <td>0.11258</td>\n",
       "      <td>0.10075</td>\n",
       "      <td>1.11739</td>\n",
       "    </tr>\n",
       "    <tr>\n",
       "      <th>svi</th>\n",
       "      <td>0.31819</td>\n",
       "      <td>0.11147</td>\n",
       "      <td>2.85448</td>\n",
       "    </tr>\n",
       "    <tr>\n",
       "      <th>lcp</th>\n",
       "      <td>-0.11387</td>\n",
       "      <td>0.14819</td>\n",
       "      <td>-0.76839</td>\n",
       "    </tr>\n",
       "    <tr>\n",
       "      <th>gleason</th>\n",
       "      <td>0.00408</td>\n",
       "      <td>0.13603</td>\n",
       "      <td>0.03001</td>\n",
       "    </tr>\n",
       "    <tr>\n",
       "      <th>pgg45</th>\n",
       "      <td>0.11875</td>\n",
       "      <td>0.15001</td>\n",
       "      <td>0.79166</td>\n",
       "    </tr>\n",
       "  </tbody>\n",
       "</table>\n",
       "</div>"
      ],
      "text/plain": [
       "           Coefficient  Std. Error   Z Score\n",
       "Intercept      2.44021     0.07989  30.54631\n",
       "lcavol         0.69596     0.11940   5.82871\n",
       "lweight        0.22552     0.10435   2.16105\n",
       "age           -0.13627     0.09619  -1.41668\n",
       "lbph           0.11258     0.10075   1.11739\n",
       "svi            0.31819     0.11147   2.85448\n",
       "lcp           -0.11387     0.14819  -0.76839\n",
       "gleason        0.00408     0.13603   0.03001\n",
       "pgg45          0.11875     0.15001   0.79166"
      ]
     },
     "execution_count": 111,
     "metadata": {},
     "output_type": "execute_result"
    }
   ],
   "source": [
    "# Table 3.2\n",
    "#no dot products-- do matrix multiplication\n",
    "\n",
    "col_names = list(X_train_std.columns)\n",
    "col_names\n",
    "d = {'Coefficient': beta_h, 'Std. Error': stderr, 'Z Score': zscore}\n",
    "t32 = pd.DataFrame(data=d,index=col_names)\n",
    "t32.round(5)"
   ]
  },
  {
   "cell_type": "code",
   "execution_count": 112,
   "metadata": {
    "colab": {
     "base_uri": "https://localhost:8080/"
    },
    "id": "LNTr8AbLvujd",
    "outputId": "7e611eab-a002-4963-b7de-205fa4440267"
   },
   "outputs": [
    {
     "name": "stdout",
     "output_type": "stream",
     "text": [
      "MSE on the test dataset =  0.3506687673697835\n"
     ]
    }
   ],
   "source": [
    "# Predicted values using equation (3.7)\n",
    "betas = beta_h[1:]\n",
    "y_pred_h = X_test_std@betas\n",
    "\n",
    "# Mean Squared Error (predicted vs test)\n",
    "mse = np.mean((y_test_std-y_pred_h)**2)\n",
    "print(\"MSE on the test dataset = \",mse)"
   ]
  },
  {
   "cell_type": "markdown",
   "metadata": {
    "id": "2kr3Vkm8r2g8"
   },
   "source": [
    "# 2. Ridge Regression\n",
    "You must also code this one by hand (eq 3.44 to find the betas). Select the optimal value of Lambda by cross-validation using the validation dataset. Report the mean squared error on the test dataset, using the best lambda you found on the validation set. DO NOT USE THE TEST DATASET TO CHOOSE LAMBDA. Plot a ridge plot similar to figure 3.8, but you can just sweep the lambda parameter (you don't have to scale it to degrees of freedom)."
   ]
  },
  {
   "cell_type": "code",
   "execution_count": 113,
   "metadata": {
    "id": "kf7-su1DsoHf"
   },
   "outputs": [],
   "source": [
    "# \"intercept has been left out of the penalty term\" pg.64\n",
    "X_train_std.drop(columns='Intercept', inplace=True)\n",
    "Xarr = np.array(X_train_std)\n",
    "Xt = np.array(X_train_std.transpose())\n",
    "yarr = np.array(y_train)\n",
    "\n",
    "# \"I is the pxp identity matrix\"\n",
    "p = len(X_train_std.columns)\n",
    "I = np.identity(p)"
   ]
  },
  {
   "cell_type": "code",
   "execution_count": 114,
   "metadata": {
    "id": "-Y_BqaI1sj70"
   },
   "outputs": [],
   "source": [
    "# an empty list to store the coefficients\n",
    "bridge = []\n",
    "# an empty list to store mse values\n",
    "mse_ridge = []\n",
    "\n",
    "# sweeping the lambda parameter\n",
    "lmda = np.linspace(0,50,1000)\n",
    "\n",
    "for i in range(0,len(lmda)):\n",
    "    # sweeping through lmda and storing individual coeffs in a list\n",
    "    beta_ridge = np.linalg.inv(((Xt@Xarr)+ (lmda[i]*I)))@(Xt)@(yarr)\n",
    "    bridge.append(beta_ridge)\n",
    "\n",
    "    # using betas on the validation set\n",
    "    y_ridge_val = X_val_std@beta_ridge\n",
    "    # calculating mse for each lmda\n",
    "    mse_ridge.append(np.mean((y_val_std-y_ridge_val)**2))\n",
    "\n",
    "# finding the index of minimum from mse_ridge\n",
    "min_mse_index = np.argmin(mse_ridge)\n",
    "lmda_best = lmda[min_mse_index]\n",
    "\n",
    "# report mse on the test dataset using the best lambda\n",
    "beta_ridge_best = np.linalg.inv(((Xt@Xarr)+ (lmda_best*I)))@(Xt)@(yarr)\n",
    "y_ridge_test = (np.array(X_test_std))@beta_ridge_best\n",
    "mse_ridge_best = np.mean((y_test_std-y_ridge_test)**2)"
   ]
  },
  {
   "cell_type": "code",
   "execution_count": 115,
   "metadata": {
    "colab": {
     "base_uri": "https://localhost:8080/",
     "height": 329
    },
    "id": "uItYzo-j4jKP",
    "outputId": "70ef81e8-644e-48e2-f658-44b050472e80"
   },
   "outputs": [
    {
     "data": {
      "image/png": "[encoded data removed]",
      "text/plain": [
       "<Figure size 640x480 with 1 Axes>"
      ]
     },
     "metadata": {},
     "output_type": "display_data"
    },
    {
     "name": "stdout",
     "output_type": "stream",
     "text": [
      "Optimal value of Lambda selected from validation dataset =  2.4524524524524525\n",
      "MSE on the test dataset =  0.33005263660753775\n"
     ]
    }
   ],
   "source": [
    "fig, ax = plt.subplots()\n",
    "#ax.axis('equal')\n",
    "ax.plot(lmda, bridge)\n",
    "ax.axvline(x=lmda_best, label='Optimal Lambda',linestyle='dashed')\n",
    "ax.set(xlabel='Lambda', ylabel='Coefficients',title='Replication of Figure 3.8')\n",
    "ax.grid()\n",
    "ax.legend(pred_list)\n",
    "plt.show()\n",
    "print(\"Optimal value of Lambda selected from validation dataset = \", lmda_best)\n",
    "print(\"MSE on the test dataset = \", mse_ridge_best)\n",
    "# The figure is 'flipped' and I think it's correct to be flipped since we're plotting against lambda instead of df(lambda)?"
   ]
  },
  {
   "cell_type": "markdown",
   "metadata": {
    "id": "14KIYHQpcbbf"
   },
   "source": [
    "#3. Lasso Regression\n",
    "Use the built in packages in sci-kit learn or MATLAB to do a Lasso regression. Select the optimal value of lambda as in part b) and also display a Lasso plot similar to figure 3.10, but again you can just sweep the lambda parameter."
   ]
  },
  {
   "cell_type": "code",
   "execution_count": 116,
   "metadata": {
    "id": "esUdC8nNWzs3"
   },
   "outputs": [],
   "source": [
    "# Creating a Lasso object\n",
    "model_lasso = Lasso()\n",
    "\n",
    "# sweeping the alpha parameter (alpha = lambda)\n",
    "lmda = np.linspace(0.0001,1,1000)\n",
    "\n",
    "# an empty list to store the coefficients\n",
    "blasso = []\n",
    "# an empty list to store mse values\n",
    "mse_lasso = []\n",
    "\n",
    "# sweeping through lmda and storing individual coeffs in a list\n",
    "for i in range(0,len(lmda)):\n",
    "    # creating the lasso model\n",
    "    model_lasso = Lasso(alpha=lmda[i])\n",
    "    # fitting the lasso model with training dataset\n",
    "    model_lasso.fit(X_train_std, y_train_std)\n",
    "    blasso.append(model_lasso.coef_)\n",
    "    # predicting y from X\n",
    "    y_lasso_val = model_lasso.predict(X_val_std)\n",
    "    # calculating MSE\n",
    "    mse_lasso.append(np.mean((y_val_std-y_lasso_val)**2))\n",
    "    \n",
    "# finding the index of minimum from mse_lasso\n",
    "min_mse_index_lasso = np.argmin(mse_lasso)\n",
    "lmda_best_lasso = lmda[min_mse_index_lasso]\n",
    "\n",
    "# report mse on the test dataset using the best lambda\n",
    "beta_lasso_best = blasso[min_mse_index_lasso]\n",
    "y_lasso_test = (np.array(X_test_std))@beta_lasso_best\n",
    "mse_lasso_best = np.mean((y_test_std-y_lasso_test)**2)\n"
   ]
  },
  {
   "cell_type": "code",
   "execution_count": 117,
   "metadata": {
    "colab": {
     "base_uri": "https://localhost:8080/",
     "height": 329
    },
    "id": "j_wI7pyB4MrD",
    "outputId": "ac3f676c-1804-46a3-c7e1-4dc2aa23c8f2"
   },
   "outputs": [
    {
     "data": {
      "image/png": "[encoded data removed]",
      "text/plain": [
       "<Figure size 640x480 with 1 Axes>"
      ]
     },
     "metadata": {},
     "output_type": "display_data"
    },
    {
     "name": "stdout",
     "output_type": "stream",
     "text": [
      "Optimal value of Lambda selected from validation dataset =  0.0001\n",
      "MSE on test dataset =  0.2682719092769593\n"
     ]
    }
   ],
   "source": [
    "# Replication of Figure 3.10\n",
    "fig, ax = plt.subplots()\n",
    "#ax.axis('equal')\n",
    "ax.plot(lmda, blasso)\n",
    "ax.axvline(x=lmda_best_lasso, label='Optimal Lambda=alpha',linestyle='dashed')\n",
    "ax.set(xlabel='Lambda', ylabel='Coefficients',title='Replication of Figure 3.10')\n",
    "ax.grid()\n",
    "ax.legend(pred_list)\n",
    "plt.show()\n",
    "print(\"Optimal value of Lambda selected from validation dataset = \", lmda_best_lasso)\n",
    "print(\"MSE on test dataset = \", mse_lasso_best)"
   ]
  },
  {
   "cell_type": "code",
   "execution_count": 118,
   "metadata": {
    "colab": {
     "base_uri": "https://localhost:8080/"
    },
    "id": "r6_uEP5vMkJ8",
    "outputId": "49d46eee-e706-4dc7-8584-7b5602544cc6"
   },
   "outputs": [
    {
     "name": "stdout",
     "output_type": "stream",
     "text": [
      "Linear Regression MSE =  0.3506687673697835\n",
      "Ridge Regression MSE =  0.33005263660753775\n",
      "Lasso Regression MSE =  0.2682719092769593\n"
     ]
    }
   ],
   "source": [
    "print(\"Linear Regression MSE = \", mse)\n",
    "print(\"Ridge Regression MSE = \", mse_ridge_best)\n",
    "print(\"Lasso Regression MSE = \", mse_lasso_best)"
   ]
  },
  {
   "cell_type": "markdown",
   "metadata": {
    "id": "e_MqeJvt7pun"
   },
   "source": [
    "# 4. Application on Synchronus Machine Data Set"
   ]
  },
  {
   "cell_type": "markdown",
   "metadata": {
    "id": "wqtmCg3b6rPS"
   },
   "source": [
    "Next, download a dataset suitable for linear regression from UCI or another repository. For now, this should be a dataset that only has numerical features, with no missing values. Repeat the analysis above on this dataset.\n",
    "\n",
    "Which features did the Lasso select for you to include in your model? Do these features make sense?\n",
    "Compute the MSE on the training dataset and the test dataset for all methods and comment on the results.  Compare this MSE to a baseline MSE.\n",
    "\n",
    "Synchronus Machine Data Set:  Synchronous motors (SMs) are AC motors with constant speed.A SM dataset is obtained from a real experimental set. The task is to create the strong models to estimate the excitation current of SM.  \n",
    "Iy (Load Current)  PF (Power factor)  e (Power factor error)  dIf (Changing of excitation current of synchronous machine)  If (Excitation current of synchronous machine)"
   ]
  },
  {
   "cell_type": "code",
   "execution_count": 119,
   "metadata": {
    "id": "544VCKMs29Pi"
   },
   "outputs": [],
   "source": [
    "filename = os.path.join(os.getcwd(),\"sync.csv\")\n",
    "df2 = pd.read_csv(filename)\n",
    "\n",
    "y = df2['Iy']\n",
    "predlist = list(['PF','e','dIf','If'])\n",
    "X = df2[predlist]\n",
    "\n",
    "X_train, X_val, X_test, X_train_std, X_val_std, X_test_std, y_train, y_val, y_test, y_train_std, y_val_std, y_test_std = train_val_test_split(X,y,0.2,723)"
   ]
  },
  {
   "cell_type": "markdown",
   "metadata": {
    "id": "LC-C1_B_FqqR"
   },
   "source": [
    "Linear Regression for Synchronus Machine Dataset"
   ]
  },
  {
   "cell_type": "code",
   "execution_count": 120,
   "metadata": {
    "colab": {
     "base_uri": "https://localhost:8080/",
     "height": 204
    },
    "id": "lAsa8DnC2iar",
    "outputId": "22d8a852-10e8-4496-d41c-c30fa25fec10"
   },
   "outputs": [
    {
     "data": {
      "text/html": [
       "<div>\n",
       "<style scoped>\n",
       "    .dataframe tbody tr th:only-of-type {\n",
       "        vertical-align: middle;\n",
       "    }\n",
       "\n",
       "    .dataframe tbody tr th {\n",
       "        vertical-align: top;\n",
       "    }\n",
       "\n",
       "    .dataframe thead th {\n",
       "        text-align: right;\n",
       "    }\n",
       "</style>\n",
       "<table border=\"1\" class=\"dataframe\">\n",
       "  <thead>\n",
       "    <tr style=\"text-align: right;\">\n",
       "      <th></th>\n",
       "      <th>Iy</th>\n",
       "      <th>PF</th>\n",
       "      <th>e</th>\n",
       "      <th>dIf</th>\n",
       "      <th>If</th>\n",
       "    </tr>\n",
       "  </thead>\n",
       "  <tbody>\n",
       "    <tr>\n",
       "      <th>Iy</th>\n",
       "      <td>1.000000</td>\n",
       "      <td>-0.041574</td>\n",
       "      <td>0.041574</td>\n",
       "      <td>0.366052</td>\n",
       "      <td>0.424945</td>\n",
       "    </tr>\n",
       "    <tr>\n",
       "      <th>PF</th>\n",
       "      <td>-0.041574</td>\n",
       "      <td>1.000000</td>\n",
       "      <td>-1.000000</td>\n",
       "      <td>-0.702533</td>\n",
       "      <td>-0.861013</td>\n",
       "    </tr>\n",
       "    <tr>\n",
       "      <th>e</th>\n",
       "      <td>0.041574</td>\n",
       "      <td>-1.000000</td>\n",
       "      <td>1.000000</td>\n",
       "      <td>0.702533</td>\n",
       "      <td>0.861013</td>\n",
       "    </tr>\n",
       "    <tr>\n",
       "      <th>dIf</th>\n",
       "      <td>0.366052</td>\n",
       "      <td>-0.702533</td>\n",
       "      <td>0.702533</td>\n",
       "      <td>1.000000</td>\n",
       "      <td>0.830651</td>\n",
       "    </tr>\n",
       "    <tr>\n",
       "      <th>If</th>\n",
       "      <td>0.424945</td>\n",
       "      <td>-0.861013</td>\n",
       "      <td>0.861013</td>\n",
       "      <td>0.830651</td>\n",
       "      <td>1.000000</td>\n",
       "    </tr>\n",
       "  </tbody>\n",
       "</table>\n",
       "</div>"
      ],
      "text/plain": [
       "           Iy        PF         e       dIf        If\n",
       "Iy   1.000000 -0.041574  0.041574  0.366052  0.424945\n",
       "PF  -0.041574  1.000000 -1.000000 -0.702533 -0.861013\n",
       "e    0.041574 -1.000000  1.000000  0.702533  0.861013\n",
       "dIf  0.366052 -0.702533  0.702533  1.000000  0.830651\n",
       "If   0.424945 -0.861013  0.861013  0.830651  1.000000"
      ]
     },
     "metadata": {},
     "output_type": "display_data"
    }
   ],
   "source": [
    "# Replicating Table 3.2\n",
    "display((df2).corr())"
   ]
  },
  {
   "cell_type": "code",
   "execution_count": 121,
   "metadata": {
    "id": "RK8mgIR14whl"
   },
   "outputs": [],
   "source": [
    "# Inserting the column of ones to get the intercept\n",
    "X_train_std.insert(0,\"Intercept\",np.ones((len(X_train_std),1)),allow_duplicates=False)"
   ]
  },
  {
   "cell_type": "code",
   "execution_count": 122,
   "metadata": {
    "colab": {
     "base_uri": "https://localhost:8080/",
     "height": 272
    },
    "id": "whEOPtUa45-h",
    "outputId": "ece5c51e-1d1a-4ca2-b266-12bcd57cf4db"
   },
   "outputs": [
    {
     "name": "stderr",
     "output_type": "stream",
     "text": [
      "/var/folders/zl/fxd66b555m5656g3sfpymcbr0000gn/T/ipykernel_22537/2125603474.py:10: RuntimeWarning: invalid value encountered in sqrt\n",
      "  stderr = np.sqrt(var) * np.sqrt(v)\n"
     ]
    },
    {
     "data": {
      "text/html": [
       "<div>\n",
       "<style scoped>\n",
       "    .dataframe tbody tr th:only-of-type {\n",
       "        vertical-align: middle;\n",
       "    }\n",
       "\n",
       "    .dataframe tbody tr th {\n",
       "        vertical-align: top;\n",
       "    }\n",
       "\n",
       "    .dataframe thead th {\n",
       "        text-align: right;\n",
       "    }\n",
       "</style>\n",
       "<table border=\"1\" class=\"dataframe\">\n",
       "  <thead>\n",
       "    <tr style=\"text-align: right;\">\n",
       "      <th></th>\n",
       "      <th>Coefficient</th>\n",
       "      <th>Std. Error</th>\n",
       "      <th>Z Score</th>\n",
       "    </tr>\n",
       "  </thead>\n",
       "  <tbody>\n",
       "    <tr>\n",
       "      <th>Intercept</th>\n",
       "      <td>4.502472</td>\n",
       "      <td>0.027422</td>\n",
       "      <td>164.192889</td>\n",
       "    </tr>\n",
       "    <tr>\n",
       "      <th>PF</th>\n",
       "      <td>0.318266</td>\n",
       "      <td>NaN</td>\n",
       "      <td>NaN</td>\n",
       "    </tr>\n",
       "    <tr>\n",
       "      <th>e</th>\n",
       "      <td>-0.861286</td>\n",
       "      <td>NaN</td>\n",
       "      <td>NaN</td>\n",
       "    </tr>\n",
       "    <tr>\n",
       "      <th>dIf</th>\n",
       "      <td>-0.003256</td>\n",
       "      <td>0.047695</td>\n",
       "      <td>-0.068272</td>\n",
       "    </tr>\n",
       "    <tr>\n",
       "      <th>If</th>\n",
       "      <td>1.359594</td>\n",
       "      <td>0.068048</td>\n",
       "      <td>19.979995</td>\n",
       "    </tr>\n",
       "  </tbody>\n",
       "</table>\n",
       "</div>"
      ],
      "text/plain": [
       "           Coefficient  Std. Error     Z Score\n",
       "Intercept     4.502472    0.027422  164.192889\n",
       "PF            0.318266         NaN         NaN\n",
       "e            -0.861286         NaN         NaN\n",
       "dIf          -0.003256    0.047695   -0.068272\n",
       "If            1.359594    0.068048   19.979995"
      ]
     },
     "metadata": {},
     "output_type": "display_data"
    },
    {
     "name": "stdout",
     "output_type": "stream",
     "text": [
      "The Std. Error for PF and e are very very small, which means that Z score tends to positive infinity\n",
      "MSE on the test dataset =  0.5042189841879585\n"
     ]
    }
   ],
   "source": [
    "Xt = np.array(X_train_std.transpose())\n",
    "Xarr = np.array(X_train_std)\n",
    "yarr = np.array(y_train)\n",
    "inv = np.linalg.inv(Xt@Xarr)\n",
    "beta_h = inv@Xt@yarr\n",
    "\n",
    "# Calculating the standard error\n",
    "var = np.sum((yarr-(Xarr@beta_h))**2)/(Xarr.shape[0]-Xarr.shape[1])\n",
    "v= np.diag(inv)\n",
    "stderr = np.sqrt(var) * np.sqrt(v)\n",
    "\n",
    "# Calculating the Z Score \n",
    "zscore = beta_h / stderr\n",
    "\n",
    "# Table 3.2\n",
    "#no dot products-- do matrix multiplication\n",
    "\n",
    "col_names = list(X_train_std.columns)\n",
    "col_names\n",
    "d = {'Coefficient': beta_h, 'Std. Error': stderr, 'Z Score': zscore}\n",
    "t32 = pd.DataFrame(data=d,index=col_names)\n",
    "display(t32)\n",
    "\n",
    "print(\"The Std. Error for PF and e are very very small, which means that Z score tends to positive infinity\")\n",
    "\n",
    "# Predicted values using equation (3.7)\n",
    "betas = beta_h[1:]\n",
    "y_pred_h = X_test_std@betas\n",
    "\n",
    "# MSE on test dataset\n",
    "mse = np.mean((y_test_std-y_pred_h)**2)\n",
    "\n",
    "# MSE on train dataset\n",
    "y_pred_train = (X_train_std.drop(columns='Intercept',inplace=False))@betas\n",
    "mse_linear_train = np.mean((y_train_std[1:]-y_pred_train)**2)\n",
    "print(\"MSE on the test dataset = \",mse)\n",
    "\n",
    "# Baseline MSE on test:\n",
    "baseline_mse = np.mean((y_test_std-y_train_std.mean())**2)"
   ]
  },
  {
   "cell_type": "markdown",
   "metadata": {
    "id": "IGmDxc49Fxdg"
   },
   "source": [
    "Ridge Regression for Synchronus Machine Dataset"
   ]
  },
  {
   "cell_type": "code",
   "execution_count": 123,
   "metadata": {
    "colab": {
     "base_uri": "https://localhost:8080/",
     "height": 329
    },
    "id": "cjPBuZZ6F2yJ",
    "outputId": "b01d068b-3289-4d8a-9d56-fb2d6245011c"
   },
   "outputs": [
    {
     "data": {
      "image/png": "[encoded data removed]",
      "text/plain": [
       "<Figure size 640x480 with 1 Axes>"
      ]
     },
     "metadata": {},
     "output_type": "display_data"
    },
    {
     "name": "stdout",
     "output_type": "stream",
     "text": [
      "Optimal value of Lambda selected from validation dataset =  0.002002002002002002\n",
      "MSE on the test dataset =  0.5101110643473902\n"
     ]
    }
   ],
   "source": [
    "# \"intercept has been left out of the penalty term\" pg.64\n",
    "X_train_std.drop(columns='Intercept', inplace=True)\n",
    "Xarr = np.array(X_train_std)\n",
    "Xt = np.array(X_train_std.transpose())\n",
    "yarr = np.array(y_train)\n",
    "\n",
    "# \"I is the pxp identity matrix\"\n",
    "p = len(X_train_std.columns)\n",
    "I = np.identity(p)\n",
    "\n",
    "# an empty list to store the coefficients\n",
    "bridge = []\n",
    "# an empty list to store mse values\n",
    "mse_ridge = []\n",
    "\n",
    "# sweeping the lambda parameter\n",
    "lmda = np.linspace(0,2,1000)\n",
    "\n",
    "for i in range(0,len(lmda)):\n",
    "    # sweeping through lmda and storing individual coeffs in a list\n",
    "    beta_ridge = np.linalg.inv(((Xt@Xarr)+ (lmda[i]*I)))@(Xt)@(yarr)\n",
    "    bridge.append(beta_ridge)\n",
    "\n",
    "    # using betas on the validation set\n",
    "    y_ridge_val = X_val_std@beta_ridge\n",
    "    # calculating mse for each lmda\n",
    "    mse_ridge.append(np.mean((y_val_std-y_ridge_val)**2))\n",
    "\n",
    "# finding the index of minimum from mse_ridge\n",
    "min_mse_index = np.argmin(mse_ridge)\n",
    "lmda_best = lmda[min_mse_index]\n",
    "\n",
    "# report mse on the test dataset using the best lambda\n",
    "beta_ridge_best = np.linalg.inv(((Xt@Xarr)+ (lmda_best*I)))@(Xt)@(yarr)\n",
    "y_ridge_test = (np.array(X_test_std))@beta_ridge_best\n",
    "mse_ridge_best = np.mean((y_test_std-y_ridge_test)**2)\n",
    "\n",
    "# report mse on the train dataset\n",
    "y_ridge_train = (np.array(X_train_std))@beta_ridge_best\n",
    "mse_ridge_train = np.mean((y_train_std-y_ridge_train)**2)\n",
    "\n",
    "fig, ax = plt.subplots()\n",
    "#ax.axis('equal')\n",
    "ax.plot(lmda, bridge)\n",
    "ax.axvline(x=lmda_best, label='Optimal Lambda',linestyle='dashed')\n",
    "ax.set(xlabel='Lambda', ylabel='Coefficients',title='Replication of Figure 3.8')\n",
    "ax.grid()\n",
    "ax.set_ylim([-1.0,1.5])\n",
    "ax.set_xlim([0,0.003])\n",
    "ax.legend(predlist)\n",
    "plt.show()\n",
    "print(\"Optimal value of Lambda selected from validation dataset = \", lmda_best)\n",
    "print(\"MSE on the test dataset = \", mse_ridge_best)"
   ]
  },
  {
   "cell_type": "markdown",
   "metadata": {
    "id": "aPGLd_J9GQ2Y"
   },
   "source": [
    "Lasso Regression for the synchronus machine data set"
   ]
  },
  {
   "cell_type": "code",
   "execution_count": 124,
   "metadata": {
    "colab": {
     "base_uri": "https://localhost:8080/",
     "height": 329
    },
    "id": "EAPqb7XmGG--",
    "outputId": "5ae563f0-6e44-401e-8b6b-eff0c0942d7c"
   },
   "outputs": [
    {
     "data": {
      "image/png": "[encoded data removed]",
      "text/plain": [
       "<Figure size 640x480 with 1 Axes>"
      ]
     },
     "metadata": {},
     "output_type": "display_data"
    },
    {
     "name": "stdout",
     "output_type": "stream",
     "text": [
      "Optimal value of Lambda selected from Validation dataset=  0.006105405405405406\n",
      "MSE on test dataset =  0.5087900626281272\n"
     ]
    }
   ],
   "source": [
    "# Creating a Lasso object\n",
    "model_lasso = Lasso()\n",
    "\n",
    "# sweeping the alpha parameter (alpha = lambda)\n",
    "lmda = np.linspace(0.0001,1,1000)\n",
    "\n",
    "# an empty list to store the coefficients\n",
    "blasso = []\n",
    "# an empty list to store mse values\n",
    "mse_lasso = []\n",
    "\n",
    "# sweeping through lmda and storing individual coeffs in a list\n",
    "for i in range(0,len(lmda)):\n",
    "    # creating the lasso model\n",
    "    model_lasso = Lasso(alpha=lmda[i])\n",
    "    # fitting the lasso model with training dataset\n",
    "    model_lasso.fit(X_train_std, y_train_std)\n",
    "    blasso.append(model_lasso.coef_)\n",
    "    # predicting y from X\n",
    "    y_lasso_val = model_lasso.predict(X_val_std)\n",
    "    # calculating MSE\n",
    "    mse_lasso.append(np.mean((y_val_std-y_lasso_val)**2))\n",
    "\n",
    "\n",
    "# finding the index of minimum from mse_lasso\n",
    "min_mse_index_lasso = np.argmin(mse_lasso)\n",
    "lmda_best_lasso = lmda[min_mse_index_lasso]\n",
    "\n",
    "# report mse on the test dataset using the best lambda\n",
    "beta_lasso_best = blasso[min_mse_index_lasso]\n",
    "y_lasso_test = (np.array(X_test_std))@beta_lasso_best\n",
    "mse_lasso_best = np.mean((y_test_std-y_lasso_test)**2)\n",
    "\n",
    "# report mse on the train dataset\n",
    "y_lasso_train = (np.array(X_train_std))@beta_lasso_best\n",
    "mse_lasso_train = np.mean((y_train_std-y_lasso_train)**2)\n",
    "\n",
    "# Replication of Figure 3.10\n",
    "fig, ax = plt.subplots()\n",
    "#ax.axis('equal')\n",
    "ax.plot(lmda, blasso)\n",
    "ax.axvline(x=lmda_best_lasso, label='Optimal Lambda=alpha',linestyle='dashed')\n",
    "ax.set(xlabel='Lambda', ylabel='Coefficients',title='Replication of Figure 3.10')\n",
    "ax.grid()\n",
    "ax.legend(predlist)\n",
    "ax.set_xlim([0.0,0.2])\n",
    "plt.show()\n",
    "print(\"Optimal value of Lambda selected from Validation dataset= \", lmda_best_lasso)\n",
    "print(\"MSE on test dataset = \", mse_lasso_best)"
   ]
  },
  {
   "cell_type": "code",
   "execution_count": 125,
   "metadata": {
    "colab": {
     "base_uri": "https://localhost:8080/",
     "height": 210
    },
    "id": "7zDSWwjvQPYD",
    "outputId": "a7e27746-e444-43e4-e803-d7dcde70d1de"
   },
   "outputs": [
    {
     "name": "stdout",
     "output_type": "stream",
     "text": [
      "Linear Regression MSE =  0.5042189841879585\n",
      "Ridge Regression MSE =  0.5101110643473902\n",
      "Lasso Regression MSE =  0.5087900626281272\n"
     ]
    },
    {
     "data": {
      "text/html": [
       "<div>\n",
       "<style scoped>\n",
       "    .dataframe tbody tr th:only-of-type {\n",
       "        vertical-align: middle;\n",
       "    }\n",
       "\n",
       "    .dataframe tbody tr th {\n",
       "        vertical-align: top;\n",
       "    }\n",
       "\n",
       "    .dataframe thead th {\n",
       "        text-align: right;\n",
       "    }\n",
       "</style>\n",
       "<table border=\"1\" class=\"dataframe\">\n",
       "  <thead>\n",
       "    <tr style=\"text-align: right;\">\n",
       "      <th></th>\n",
       "      <th>MSE on Train</th>\n",
       "      <th>MSE on Test</th>\n",
       "    </tr>\n",
       "  </thead>\n",
       "  <tbody>\n",
       "    <tr>\n",
       "      <th>Linear Regression</th>\n",
       "      <td>0.419459</td>\n",
       "      <td>0.504219</td>\n",
       "    </tr>\n",
       "    <tr>\n",
       "      <th>Ridge Regression</th>\n",
       "      <td>0.416134</td>\n",
       "      <td>0.510111</td>\n",
       "    </tr>\n",
       "    <tr>\n",
       "      <th>Lasso Regression</th>\n",
       "      <td>0.410246</td>\n",
       "      <td>0.508790</td>\n",
       "    </tr>\n",
       "  </tbody>\n",
       "</table>\n",
       "</div>"
      ],
      "text/plain": [
       "                   MSE on Train  MSE on Test\n",
       "Linear Regression      0.419459     0.504219\n",
       "Ridge Regression       0.416134     0.510111\n",
       "Lasso Regression       0.410246     0.508790"
      ]
     },
     "metadata": {},
     "output_type": "display_data"
    },
    {
     "name": "stdout",
     "output_type": "stream",
     "text": [
      "Baseline MSE =  0.9707499066036006\n"
     ]
    }
   ],
   "source": [
    "print(\"Linear Regression MSE = \", mse)\n",
    "print(\"Ridge Regression MSE = \", mse_ridge_best)\n",
    "print(\"Lasso Regression MSE = \", mse_lasso_best)\n",
    "\n",
    "mse_test = [mse, mse_ridge_best, mse_lasso_best]\n",
    "mse_train = [mse_linear_train, mse_ridge_train, mse_lasso_train]\n",
    "\n",
    "indexlist = list(['Linear Regression', 'Ridge Regression', 'Lasso Regression'])\n",
    "d = {'MSE on Train': mse_train, 'MSE on Test': mse_test}\n",
    "msetable = pd.DataFrame(data=d,index=indexlist)\n",
    "display(msetable)\n",
    "print(\"Baseline MSE = \", baseline_mse)"
   ]
  },
  {
   "cell_type": "markdown",
   "metadata": {
    "id": "5P9P6oV-Ll1S"
   },
   "source": [
    "The optimal value of lambda selected from the validation dataset by a lasso regression fit is 0.006105405... At this value of lambda, only the features lf and PF have meaningful coefficients. This means that these are the features selected by Lasso to include in my model. However, I am not entirely sure if these features make sense (don't really know about the technical features of a synchronous machine). \n",
    "\n",
    "MSE indicates how close the predictions were to the actual values. The MSE on training dataset is the smaller than that on the test set, which are both significantly lower than the baseline MSE (calculated by comparing the test value to the mean of train values). This indicates that our models did indeed predict something meaningful; the error is lower than just taking the mean values. "
   ]
  },
  {
   "cell_type": "markdown",
   "metadata": {
    "id": "ftsfOrU6GgcR"
   },
   "source": [
    "# Stretch Goal (2 points)\n",
    "Add nonlinear and interaction terms to your dataset and try to improve the performance. Are you able to do so?"
   ]
  },
  {
   "cell_type": "markdown",
   "metadata": {},
   "source": [
    "# Adding Nonlinear Terms"
   ]
  },
  {
   "cell_type": "code",
   "execution_count": 126,
   "metadata": {},
   "outputs": [],
   "source": [
    "df_sg = df.copy()\n",
    "df_sg[\"pgg45exp\"] = np.exp(df_sg[\"pgg45\"])\n",
    "X = df_sg.drop(columns = ['pgg45', 'lpsa'], inplace = False)\n",
    "y = df_sg['lpsa']"
   ]
  },
  {
   "cell_type": "code",
   "execution_count": 127,
   "metadata": {},
   "outputs": [],
   "source": [
    "# split the prostate data\n",
    "X_train, X_val, X_test, X_train_std, X_val_std, X_test_std, y_train, y_val, y_test, y_train_std, y_val_std, y_test_std = train_val_test_split(X,y,0.2,723)\n",
    "\n",
    "# inserting an intercept column\n",
    "X_train_std.insert(0,\"Intercept\",np.ones((len(X_train_std),1)),allow_duplicates=False)\n",
    "\n",
    "Xt = np.array(X_train_std.transpose())\n",
    "Xarr = np.array(X_train_std)\n",
    "yarr = np.array(y_train)\n",
    "inv = np.linalg.inv(Xt@Xarr)\n",
    "beta_h = inv@Xt@yarr\n",
    "\n",
    "# Calculating the standard error\n",
    "var = np.sum((yarr-(Xarr@beta_h))**2)/(Xarr.shape[0]-Xarr.shape[1])\n",
    "v= np.diag(inv)\n",
    "stderr = np.sqrt(var) * np.sqrt(v)\n",
    "\n",
    "# Calculating the Z Score \n",
    "zscore = beta_h / stderr\n",
    "\n",
    "# Predicted values using equation (3.7)\n",
    "betas = beta_h[1:]\n",
    "y_pred_h = X_test_std@betas\n",
    "\n",
    "# MSE on test dataset\n",
    "mse = np.mean((y_test_std-y_pred_h)**2)\n",
    "\n",
    "# MSE on train dataset\n",
    "y_pred_train = (X_train_std.drop(columns='Intercept',inplace=False))@betas\n",
    "mse_linear_train = np.mean((y_train_std[1:]-y_pred_train)**2)\n",
    "\n",
    "# Baseline MSE on test:\n",
    "baseline_mse = np.mean((y_test_std-y_train_std.mean())**2)"
   ]
  },
  {
   "cell_type": "code",
   "execution_count": 128,
   "metadata": {},
   "outputs": [],
   "source": [
    "# \"intercept has been left out of the penalty term\" pg.64\n",
    "X_train_std.drop(columns='Intercept', inplace=True)\n",
    "Xarr = np.array(X_train_std)\n",
    "Xt = np.array(X_train_std.transpose())\n",
    "yarr = np.array(y_train)\n",
    "\n",
    "# \"I is the pxp identity matrix\"\n",
    "p = len(X_train_std.columns)\n",
    "I = np.identity(p)\n",
    "\n",
    "# an empty list to store the coefficients\n",
    "bridge = []\n",
    "# an empty list to store mse values\n",
    "mse_ridge = []\n",
    "\n",
    "# sweeping the lambda parameter\n",
    "lmda = np.linspace(0,2,1000)\n",
    "\n",
    "for i in range(0,len(lmda)):\n",
    "    # sweeping through lmda and storing individual coeffs in a list\n",
    "    beta_ridge = np.linalg.inv(((Xt@Xarr)+ (lmda[i]*I)))@(Xt)@(yarr)\n",
    "    bridge.append(beta_ridge)\n",
    "\n",
    "    # using betas on the validation set\n",
    "    y_ridge_val = X_val_std@beta_ridge\n",
    "    # calculating mse for each lmda\n",
    "    mse_ridge.append(np.mean((y_val_std-y_ridge_val)**2))\n",
    "\n",
    "# finding the index of minimum from mse_ridge\n",
    "min_mse_index = np.argmin(mse_ridge)\n",
    "lmda_best = lmda[min_mse_index]\n",
    "\n",
    "# report mse on the test dataset using the best lambda\n",
    "beta_ridge_best = np.linalg.inv(((Xt@Xarr)+ (lmda_best*I)))@(Xt)@(yarr)\n",
    "y_ridge_test = (np.array(X_test_std))@beta_ridge_best\n",
    "mse_ridge_best = np.mean((y_test_std-y_ridge_test)**2)\n",
    "\n",
    "# report mse on the train dataset\n",
    "y_ridge_train = (np.array(X_train_std))@beta_ridge_best\n",
    "mse_ridge_train = np.mean((y_train_std-y_ridge_train)**2)"
   ]
  },
  {
   "cell_type": "code",
   "execution_count": 129,
   "metadata": {},
   "outputs": [],
   "source": [
    "# Creating a Lasso object\n",
    "model_lasso = Lasso()\n",
    "\n",
    "# sweeping the alpha parameter (alpha = lambda)\n",
    "lmda = np.linspace(0.0001,1,1000)\n",
    "\n",
    "# an empty list to store the coefficients\n",
    "blasso = []\n",
    "# an empty list to store mse values\n",
    "mse_lasso = []\n",
    "\n",
    "# sweeping through lmda and storing individual coeffs in a list\n",
    "for i in range(0,len(lmda)):\n",
    "    # creating the lasso model\n",
    "    model_lasso = Lasso(alpha=lmda[i])\n",
    "    # fitting the lasso model with training dataset\n",
    "    model_lasso.fit(X_train_std, y_train_std)\n",
    "    blasso.append(model_lasso.coef_)\n",
    "    # predicting y from X\n",
    "    y_lasso_val = model_lasso.predict(X_val_std)\n",
    "    # calculating MSE\n",
    "    mse_lasso.append(np.mean((y_val_std-y_lasso_val)**2))\n",
    "\n",
    "\n",
    "# finding the index of minimum from mse_lasso\n",
    "min_mse_index_lasso = np.argmin(mse_lasso)\n",
    "lmda_best_lasso = lmda[min_mse_index_lasso]\n",
    "\n",
    "# report mse on the test dataset using the best lambda\n",
    "beta_lasso_best = blasso[min_mse_index_lasso]\n",
    "y_lasso_test = (np.array(X_test_std))@beta_lasso_best\n",
    "mse_lasso_best = np.mean((y_test_std-y_lasso_test)**2)\n",
    "\n",
    "# report mse on the train dataset\n",
    "y_lasso_train = (np.array(X_train_std))@beta_lasso_best\n",
    "mse_lasso_train = np.mean((y_train_std-y_lasso_train)**2)"
   ]
  },
  {
   "cell_type": "code",
   "execution_count": 130,
   "metadata": {},
   "outputs": [
    {
     "name": "stdout",
     "output_type": "stream",
     "text": [
      "Linear Regression MSE =  0.3503669442452541\n",
      "Ridge Regression MSE =  0.3503669442452527\n",
      "Lasso Regression MSE =  0.2655616206843504\n"
     ]
    },
    {
     "data": {
      "text/html": [
       "<div>\n",
       "<style scoped>\n",
       "    .dataframe tbody tr th:only-of-type {\n",
       "        vertical-align: middle;\n",
       "    }\n",
       "\n",
       "    .dataframe tbody tr th {\n",
       "        vertical-align: top;\n",
       "    }\n",
       "\n",
       "    .dataframe thead th {\n",
       "        text-align: right;\n",
       "    }\n",
       "</style>\n",
       "<table border=\"1\" class=\"dataframe\">\n",
       "  <thead>\n",
       "    <tr style=\"text-align: right;\">\n",
       "      <th></th>\n",
       "      <th>MSE on Train</th>\n",
       "      <th>MSE on Test</th>\n",
       "    </tr>\n",
       "  </thead>\n",
       "  <tbody>\n",
       "    <tr>\n",
       "      <th>Linear Regression</th>\n",
       "      <td>0.319496</td>\n",
       "      <td>0.350367</td>\n",
       "    </tr>\n",
       "    <tr>\n",
       "      <th>Ridge Regression</th>\n",
       "      <td>0.319252</td>\n",
       "      <td>0.350367</td>\n",
       "    </tr>\n",
       "    <tr>\n",
       "      <th>Lasso Regression</th>\n",
       "      <td>0.302413</td>\n",
       "      <td>0.265562</td>\n",
       "    </tr>\n",
       "  </tbody>\n",
       "</table>\n",
       "</div>"
      ],
      "text/plain": [
       "                   MSE on Train  MSE on Test\n",
       "Linear Regression      0.319496     0.350367\n",
       "Ridge Regression       0.319252     0.350367\n",
       "Lasso Regression       0.302413     0.265562"
      ]
     },
     "metadata": {},
     "output_type": "display_data"
    },
    {
     "name": "stdout",
     "output_type": "stream",
     "text": [
      "Baseline MSE =  0.2118840801391697\n"
     ]
    }
   ],
   "source": [
    "print(\"Linear Regression MSE = \", mse)\n",
    "print(\"Ridge Regression MSE = \", mse_ridge_best)\n",
    "print(\"Lasso Regression MSE = \", mse_lasso_best)\n",
    "\n",
    "mse_test = [mse, mse_ridge_best, mse_lasso_best]\n",
    "mse_train = [mse_linear_train, mse_ridge_train, mse_lasso_train]\n",
    "\n",
    "indexlist = list(['Linear Regression', 'Ridge Regression', 'Lasso Regression'])\n",
    "d = {'MSE on Train': mse_train, 'MSE on Test': mse_test}\n",
    "msetable = pd.DataFrame(data=d,index=indexlist)\n",
    "display(msetable)\n",
    "print(\"Baseline MSE = \", baseline_mse)"
   ]
  },
  {
   "cell_type": "markdown",
   "metadata": {},
   "source": [
    "For adding non linear terms, I first tried with using an exponential function to each of the linear terms. Using trial and error, I found that using an exponential function on the term \"pgg45\" reduces the MSE values on linear and lasso."
   ]
  },
  {
   "cell_type": "markdown",
   "metadata": {},
   "source": [
    "# Adding Interactive Terms"
   ]
  },
  {
   "cell_type": "code",
   "execution_count": 131,
   "metadata": {},
   "outputs": [
    {
     "data": {
      "text/plain": [
       "Index(['lcavol', 'lweight', 'age', 'lbph', 'svi', 'lcp', 'gleason', 'pgg45',\n",
       "       'lpsa'],\n",
       "      dtype='object')"
      ]
     },
     "execution_count": 131,
     "metadata": {},
     "output_type": "execute_result"
    }
   ],
   "source": [
    "df.columns"
   ]
  },
  {
   "cell_type": "code",
   "execution_count": 132,
   "metadata": {},
   "outputs": [],
   "source": [
    "df_it = df.copy()\n",
    "df_it[\"multiply\"] = df_it[\"lcavol\"] * df_it[\"lbph\"]\n",
    "X = df_it.drop(columns = ['lpsa'], inplace = False)\n",
    "y = df_it['lpsa']"
   ]
  },
  {
   "cell_type": "code",
   "execution_count": 133,
   "metadata": {},
   "outputs": [],
   "source": [
    "# split the prostate data\n",
    "X_train, X_val, X_test, X_train_std, X_val_std, X_test_std, y_train, y_val, y_test, y_train_std, y_val_std, y_test_std = train_val_test_split(X,y,0.2,723)\n",
    "\n",
    "# inserting an intercept column\n",
    "X_train_std.insert(0,\"Intercept\",np.ones((len(X_train_std),1)),allow_duplicates=False)\n",
    "\n",
    "Xt = np.array(X_train_std.transpose())\n",
    "Xarr = np.array(X_train_std)\n",
    "yarr = np.array(y_train)\n",
    "inv = np.linalg.inv(Xt@Xarr)\n",
    "beta_h = inv@Xt@yarr\n",
    "\n",
    "# Calculating the standard error\n",
    "var = np.sum((yarr-(Xarr@beta_h))**2)/(Xarr.shape[0]-Xarr.shape[1])\n",
    "v= np.diag(inv)\n",
    "stderr = np.sqrt(var) * np.sqrt(v)\n",
    "\n",
    "# Calculating the Z Score \n",
    "zscore = beta_h / stderr\n",
    "\n",
    "# Predicted values using equation (3.7)\n",
    "betas = beta_h[1:]\n",
    "y_pred_h = X_test_std@betas\n",
    "\n",
    "# MSE on test dataset\n",
    "mse = np.mean((y_test_std-y_pred_h)**2)\n",
    "\n",
    "# MSE on train dataset\n",
    "y_pred_train = (X_train_std.drop(columns='Intercept',inplace=False))@betas\n",
    "mse_linear_train = np.mean((y_train_std[1:]-y_pred_train)**2)\n",
    "\n",
    "# Baseline MSE on test:\n",
    "baseline_mse = np.mean((y_test_std-y_train_std.mean())**2)"
   ]
  },
  {
   "cell_type": "code",
   "execution_count": 134,
   "metadata": {},
   "outputs": [],
   "source": [
    "# \"intercept has been left out of the penalty term\" pg.64\n",
    "X_train_std.drop(columns='Intercept', inplace=True)\n",
    "Xarr = np.array(X_train_std)\n",
    "Xt = np.array(X_train_std.transpose())\n",
    "yarr = np.array(y_train)\n",
    "\n",
    "# \"I is the pxp identity matrix\"\n",
    "p = len(X_train_std.columns)\n",
    "I = np.identity(p)\n",
    "\n",
    "# an empty list to store the coefficients\n",
    "bridge = []\n",
    "# an empty list to store mse values\n",
    "mse_ridge = []\n",
    "\n",
    "# sweeping the lambda parameter\n",
    "lmda = np.linspace(0,2,1000)\n",
    "\n",
    "for i in range(0,len(lmda)):\n",
    "    # sweeping through lmda and storing individual coeffs in a list\n",
    "    beta_ridge = np.linalg.inv(((Xt@Xarr)+ (lmda[i]*I)))@(Xt)@(yarr)\n",
    "    bridge.append(beta_ridge)\n",
    "\n",
    "    # using betas on the validation set\n",
    "    y_ridge_val = X_val_std@beta_ridge\n",
    "    # calculating mse for each lmda\n",
    "    mse_ridge.append(np.mean((y_val_std-y_ridge_val)**2))\n",
    "\n",
    "# finding the index of minimum from mse_ridge\n",
    "min_mse_index = np.argmin(mse_ridge)\n",
    "lmda_best = lmda[min_mse_index]\n",
    "\n",
    "# report mse on the test dataset using the best lambda\n",
    "beta_ridge_best = np.linalg.inv(((Xt@Xarr)+ (lmda_best*I)))@(Xt)@(yarr)\n",
    "y_ridge_test = (np.array(X_test_std))@beta_ridge_best\n",
    "mse_ridge_best = np.mean((y_test_std-y_ridge_test)**2)\n",
    "\n",
    "# report mse on the train dataset\n",
    "y_ridge_train = (np.array(X_train_std))@beta_ridge_best\n",
    "mse_ridge_train = np.mean((y_train_std-y_ridge_train)**2)"
   ]
  },
  {
   "cell_type": "code",
   "execution_count": 135,
   "metadata": {},
   "outputs": [],
   "source": [
    "# Creating a Lasso object\n",
    "model_lasso = Lasso()\n",
    "\n",
    "# sweeping the alpha parameter (alpha = lambda)\n",
    "lmda = np.linspace(0.0001,1,1000)\n",
    "\n",
    "# an empty list to store the coefficients\n",
    "blasso = []\n",
    "# an empty list to store mse values\n",
    "mse_lasso = []\n",
    "\n",
    "# sweeping through lmda and storing individual coeffs in a list\n",
    "for i in range(0,len(lmda)):\n",
    "    # creating the lasso model\n",
    "    model_lasso = Lasso(alpha=lmda[i])\n",
    "    # fitting the lasso model with training dataset\n",
    "    model_lasso.fit(X_train_std, y_train_std)\n",
    "    blasso.append(model_lasso.coef_)\n",
    "    # predicting y from X\n",
    "    y_lasso_val = model_lasso.predict(X_val_std)\n",
    "    # calculating MSE\n",
    "    mse_lasso.append(np.mean((y_val_std-y_lasso_val)**2))\n",
    "\n",
    "\n",
    "# finding the index of minimum from mse_lasso\n",
    "min_mse_index_lasso = np.argmin(mse_lasso)\n",
    "lmda_best_lasso = lmda[min_mse_index_lasso]\n",
    "\n",
    "# report mse on the test dataset using the best lambda\n",
    "beta_lasso_best = blasso[min_mse_index_lasso]\n",
    "y_lasso_test = (np.array(X_test_std))@beta_lasso_best\n",
    "mse_lasso_best = np.mean((y_test_std-y_lasso_test)**2)\n",
    "\n",
    "# report mse on the train dataset\n",
    "y_lasso_train = (np.array(X_train_std))@beta_lasso_best\n",
    "mse_lasso_train = np.mean((y_train_std-y_lasso_train)**2)"
   ]
  },
  {
   "cell_type": "code",
   "execution_count": 136,
   "metadata": {},
   "outputs": [
    {
     "name": "stdout",
     "output_type": "stream",
     "text": [
      "Linear Regression MSE =  0.3319115141486332\n",
      "Ridge Regression MSE =  0.315960136431755\n",
      "Lasso Regression MSE =  0.2545821483387721\n"
     ]
    },
    {
     "data": {
      "text/html": [
       "<div>\n",
       "<style scoped>\n",
       "    .dataframe tbody tr th:only-of-type {\n",
       "        vertical-align: middle;\n",
       "    }\n",
       "\n",
       "    .dataframe tbody tr th {\n",
       "        vertical-align: top;\n",
       "    }\n",
       "\n",
       "    .dataframe thead th {\n",
       "        text-align: right;\n",
       "    }\n",
       "</style>\n",
       "<table border=\"1\" class=\"dataframe\">\n",
       "  <thead>\n",
       "    <tr style=\"text-align: right;\">\n",
       "      <th></th>\n",
       "      <th>MSE on Train</th>\n",
       "      <th>MSE on Test</th>\n",
       "    </tr>\n",
       "  </thead>\n",
       "  <tbody>\n",
       "    <tr>\n",
       "      <th>Linear Regression</th>\n",
       "      <td>0.322086</td>\n",
       "      <td>0.331912</td>\n",
       "    </tr>\n",
       "    <tr>\n",
       "      <th>Ridge Regression</th>\n",
       "      <td>0.321565</td>\n",
       "      <td>0.315960</td>\n",
       "    </tr>\n",
       "    <tr>\n",
       "      <th>Lasso Regression</th>\n",
       "      <td>0.308740</td>\n",
       "      <td>0.254582</td>\n",
       "    </tr>\n",
       "  </tbody>\n",
       "</table>\n",
       "</div>"
      ],
      "text/plain": [
       "                   MSE on Train  MSE on Test\n",
       "Linear Regression      0.322086     0.331912\n",
       "Ridge Regression       0.321565     0.315960\n",
       "Lasso Regression       0.308740     0.254582"
      ]
     },
     "metadata": {},
     "output_type": "display_data"
    },
    {
     "name": "stdout",
     "output_type": "stream",
     "text": [
      "Baseline MSE =  0.2118840801391697\n"
     ]
    }
   ],
   "source": [
    "print(\"Linear Regression MSE = \", mse)\n",
    "print(\"Ridge Regression MSE = \", mse_ridge_best)\n",
    "print(\"Lasso Regression MSE = \", mse_lasso_best)\n",
    "\n",
    "mse_test = [mse, mse_ridge_best, mse_lasso_best]\n",
    "mse_train = [mse_linear_train, mse_ridge_train, mse_lasso_train]\n",
    "\n",
    "indexlist = list(['Linear Regression', 'Ridge Regression', 'Lasso Regression'])\n",
    "d = {'MSE on Train': mse_train, 'MSE on Test': mse_test}\n",
    "msetable = pd.DataFrame(data=d,index=indexlist)\n",
    "display(msetable)\n",
    "print(\"Baseline MSE = \", baseline_mse)"
   ]
  },
  {
   "cell_type": "markdown",
   "metadata": {},
   "source": [
    "After a few trial and error, I figured out that multiplying two columns, \"lcavol\" and \"lbph\", to make an interactive term reduces the overall performance; it reduces the MSE values for all three types of regression (Linear, Ridge, and Lasso)"
   ]
  },
  {
   "cell_type": "code",
   "execution_count": null,
   "metadata": {},
   "outputs": [],
   "source": []
  }
 ],
 "metadata": {
  "colab": {
   "provenance": []
  },
  "kernelspec": {
   "display_name": "Python 3 (ipykernel)",
   "language": "python",
   "name": "python3"
  },
  "language_info": {
   "codemirror_mode": {
    "name": "ipython",
    "version": 3
   },
   "file_extension": ".py",
   "mimetype": "text/x-python",
   "name": "python",
   "nbconvert_exporter": "python",
   "pygments_lexer": "ipython3",
   "version": "3.9.13"
  }
 },
 "nbformat": 4,
 "nbformat_minor": 1
}
